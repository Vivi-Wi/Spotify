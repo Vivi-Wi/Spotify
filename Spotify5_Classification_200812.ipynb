{
 "cells": [
  {
   "cell_type": "markdown",
   "metadata": {},
   "source": [
    "# Spotify NB 5: classification\n",
    "# Set up"
   ]
  },
  {
   "cell_type": "markdown",
   "metadata": {},
   "source": [
    "This is a continuation of the regression notebook, as it is assumed that redefining the problem as classification will produce more robust results."
   ]
  },
  {
   "cell_type": "code",
   "execution_count": 1,
   "metadata": {},
   "outputs": [],
   "source": [
    "%reset -fs"
   ]
  },
  {
   "cell_type": "code",
   "execution_count": 1,
   "metadata": {},
   "outputs": [],
   "source": [
    "import pandas as pd\n",
    "import numpy as np\n",
    "import json\n",
    "import math\n",
    "import pickle\n",
    "\n",
    "from datetime import datetime as dt\n",
    "import seaborn as sns\n",
    "import matplotlib.pyplot as plt\n",
    "import time\n",
    "from tqdm import tqdm\n",
    "\n",
    "import spotipy\n",
    "from spotipy.oauth2 import SpotifyClientCredentials\n",
    "\n",
    "from sklearn.compose import ColumnTransformer\n",
    "from sklearn.pipeline import Pipeline\n",
    "from sklearn.impute import SimpleImputer\n",
    "from sklearn import tree\n",
    "from sklearn.decomposition import PCA\n",
    "from sklearn.mixture import GaussianMixture\n",
    "from imblearn.over_sampling import ADASYN\n",
    "from imblearn.pipeline import Pipeline as imbPipeline\n",
    "from sklearn.naive_bayes import GaussianNB\n",
    "from sklearn.ensemble import StackingClassifier, StackingRegressor\n",
    "from sklearn.neural_network import MLPClassifier\n",
    "\n",
    "import sklearn as skl\n",
    "import sklearn.linear_model as skl_lm\n",
    "import sklearn.ensemble as skl_e\n",
    "import sklearn.metrics as skl_m\n",
    "import sklearn.feature_selection as skl_fs\n",
    "import sklearn.cluster as skl_c\n",
    "import sklearn.preprocessing as skl_p\n",
    "import sklearn.model_selection as skl_ms\n",
    "\n",
    "import xgboost as xgb\n",
    "import statsmodels.api as sm\n",
    "from patsy import dmatrices\n",
    "import scipy.stats as ss\n",
    "from statsmodels.stats.outliers_influence import variance_inflation_factor\n",
    "\n",
    "%matplotlib inline\n",
    "plt.style.use('seaborn')\n",
    "RSEED=np.random.seed(42)"
   ]
  },
  {
   "cell_type": "markdown",
   "metadata": {},
   "source": [
    "## Data cleaning & feature engineering\n",
    "The data was cleaned in the course of the EDA. Additional features were created and the new dataset was saved to a csv, that will be the starting point for this notebook. For further information on the data cleaning please refer to the respective notebook (Spotify_2019_EDA)."
   ]
  },
  {
   "cell_type": "code",
   "execution_count": 2,
   "metadata": {},
   "outputs": [],
   "source": [
    "# loading cleaned data from csv\n",
    "data = pd.read_csv('data/tracks_2019_cleaned.csv')\n",
    "data.drop('Unnamed: 0', axis=1, inplace=True)\n",
    "data.reset_index(drop=True, inplace=True)"
   ]
  },
  {
   "cell_type": "code",
   "execution_count": 3,
   "metadata": {},
   "outputs": [
    {
     "data": {
      "text/plain": [
       "(347865, 28)"
      ]
     },
     "execution_count": 3,
     "metadata": {},
     "output_type": "execute_result"
    }
   ],
   "source": [
    "df=data.copy()\n",
    "df.shape"
   ]
  },
  {
   "cell_type": "markdown",
   "metadata": {},
   "source": [
    "## Creating classes\n",
    "Due to the way the data is distributed (see EDA) we assume only the top 20% of the tracks can be considered popular."
   ]
  },
  {
   "cell_type": "code",
   "execution_count": 4,
   "metadata": {},
   "outputs": [
    {
     "data": {
      "text/plain": [
       "0    277212\n",
       "1     70653\n",
       "Name: popular_class, dtype: int64"
      ]
     },
     "execution_count": 4,
     "metadata": {},
     "output_type": "execute_result"
    }
   ],
   "source": [
    "# setting thershold\n",
    "threshold=df['popularity'].quantile(0.8)\n",
    "\n",
    "# initialising popular class as 0\n",
    "df['popular_class'] = 0\n",
    "\n",
    "# setting popular class = 1 where popularity is equal to or above the threshold\n",
    "df.loc[df['popularity'] >= threshold, 'popular_class'] = 1  \n",
    "df['popular_class'].value_counts()"
   ]
  },
  {
   "cell_type": "markdown",
   "metadata": {},
   "source": [
    "## Assigning train and test data"
   ]
  },
  {
   "cell_type": "code",
   "execution_count": 5,
   "metadata": {},
   "outputs": [],
   "source": [
    "y = df['popular_class']\n",
    "X = df.drop('popularity', axis=1)\n",
    "X.drop(y.name, axis=1, inplace=True)\n",
    "X_train, X_test, y_train, y_test = skl_ms.train_test_split(X, y, test_size=0.3, random_state=RSEED)"
   ]
  },
  {
   "cell_type": "markdown",
   "metadata": {},
   "source": [
    "## Showing model results"
   ]
  },
  {
   "cell_type": "code",
   "execution_count": 6,
   "metadata": {},
   "outputs": [],
   "source": [
    "def show_classification_results(fitted_preprocessor, model, X, y):\n",
    "    \n",
    "    # calculate scores\n",
    "    X_preprocessed = fitted_preprocessor.transform(X)\n",
    "    y_predicted = model.predict(X_preprocessed)\n",
    "    \n",
    "    # print scores\n",
    "    print(\"Accuracy: {:.2f}\".format(skl_m.accuracy_score(y, y_predicted)))\n",
    "    print(\"Recall: {:.2f}\".format(skl_m.recall_score(y, y_predicted)))\n",
    "    print(\"Precision: {:.2f}\".format(skl_m.precision_score(y, y_predicted)))\n",
    "    print(\"ROC AUC: {:.2f}\".format(skl_m.roc_auc_score(y, y_predicted)))\n",
    "\n",
    "\n",
    "    #confusion matrix\n",
    "    cm = skl_m.confusion_matrix(y, y_predicted)\n",
    "    cm = cm.astype('float') / cm.sum(axis=1) [:, np.newaxis] \n",
    "    \n",
    "    # view with a heatmap\n",
    "    plt.figure()\n",
    "    sns.heatmap(cm, annot=True, annot_kws={\"size\":30},\n",
    "                cmap='viridis', square=True, fmt='.0%')\n",
    "    plt.ylabel('True label')\n",
    "    plt.xlabel('Predicted label')\n",
    "    plt.title('Confusion matrix for:\\n{}'.format(model.__class__.__name__));\n",
    "    name=[x for x in globals() if globals()[x] is X][0]\n",
    "\n",
    "    plt.savefig('figures/'+model.__class__.__name__+'_'+name+'.png')"
   ]
  },
  {
   "cell_type": "markdown",
   "metadata": {},
   "source": [
    "## Preprocessing"
   ]
  },
  {
   "cell_type": "code",
   "execution_count": 7,
   "metadata": {
    "scrolled": true
   },
   "outputs": [
    {
     "data": {
      "text/plain": [
       "['main_genres']"
      ]
     },
     "execution_count": 7,
     "metadata": {},
     "output_type": "execute_result"
    }
   ],
   "source": [
    "# Defining categorical features for preprocessing\n",
    "categoric_features = list(X.columns[X.dtypes == object])+ list(X.columns[X.dtypes == bool])\n",
    "exclude = ['album', 'artists', 'artists_id', 'available_markets','cover_url', 'name',\n",
    "           'preview_url', 'release_date', 'track_id', 'genres']\n",
    "categoric_features = [x for x in categoric_features if x not in exclude]\n",
    "categoric_features"
   ]
  },
  {
   "cell_type": "code",
   "execution_count": 8,
   "metadata": {
    "scrolled": false
   },
   "outputs": [
    {
     "data": {
      "text/plain": [
       "['acousticness',\n",
       " 'album_track_no',\n",
       " 'danceability',\n",
       " 'duration_ms',\n",
       " 'energy',\n",
       " 'explicit',\n",
       " 'instrumentalness',\n",
       " 'liveness',\n",
       " 'loudness',\n",
       " 'speechiness',\n",
       " 'tempo',\n",
       " 'time_signature',\n",
       " 'total_album_tracks',\n",
       " 'place_in_album',\n",
       " 'month',\n",
       " 'no_genres']"
      ]
     },
     "execution_count": 8,
     "metadata": {},
     "output_type": "execute_result"
    }
   ],
   "source": [
    "# Defining numerical features for preprocessing\n",
    "numeric_features = list(X.columns[X.dtypes!=object])\n",
    "exclude = list(X.columns[X.dtypes == bool])\n",
    "numeric_features = [x for x in numeric_features if x not in exclude]\n",
    "numeric_features"
   ]
  },
  {
   "cell_type": "code",
   "execution_count": 9,
   "metadata": {},
   "outputs": [],
   "source": [
    "# Creating transforming pipes to preprocess both categorical and numerical data\n",
    "numeric_transformer = Pipeline(steps=[\n",
    "    ('imputer', SimpleImputer(strategy='median')),\n",
    "    ('scaler', skl_p.StandardScaler())\n",
    "])\n",
    "\n",
    "categorical_transformer = Pipeline(steps=[\n",
    "    ('imputer', SimpleImputer(strategy='constant', fill_value='missing')),\n",
    "    ('onehot', skl_p.OneHotEncoder(drop='first'))])\n",
    "\n",
    "# Combining the preprocessing pipelines\n",
    "preprocessor = ColumnTransformer(\n",
    "    transformers=[\n",
    "        ('num', numeric_transformer, numeric_features),\n",
    "        ('cat', categorical_transformer, categoric_features)\n",
    "    ])\n",
    "\n",
    "# fitting the preprocessor to X_train\n",
    "fitted_preprocessor=preprocessor.fit(X_train)"
   ]
  },
  {
   "cell_type": "markdown",
   "metadata": {},
   "source": [
    "# Predictive modeling baseline - Naive Bayes"
   ]
  },
  {
   "cell_type": "markdown",
   "metadata": {},
   "source": [
    "## Model"
   ]
  },
  {
   "cell_type": "code",
   "execution_count": 10,
   "metadata": {},
   "outputs": [],
   "source": [
    "# defining a pipe for the preprocessor and the model\n",
    "base_pipe = Pipeline([\n",
    "    ('preprocessor', preprocessor),\n",
    "    ('bayes', GaussianNB())\n",
    "])\n",
    "\n",
    "#fitting the model\n",
    "base_pipe.fit(X_train, y_train)\n",
    "base_model = base_pipe['bayes']"
   ]
  },
  {
   "cell_type": "markdown",
   "metadata": {},
   "source": [
    "## Performance on train data"
   ]
  },
  {
   "cell_type": "code",
   "execution_count": 11,
   "metadata": {},
   "outputs": [
    {
     "name": "stdout",
     "output_type": "stream",
     "text": [
      "Accuracy: 0.81\n",
      "Recall: 0.46\n",
      "Precision: 0.54\n",
      "ROC AUC: 0.68\n"
     ]
    },
    {
     "data": {
      "image/png": "[encoded data removed]",
      "text/plain": [
       "<Figure size 576x396 with 2 Axes>"
      ]
     },
     "metadata": {},
     "output_type": "display_data"
    }
   ],
   "source": [
    "show_classification_results(fitted_preprocessor, base_model, X_train, y_train)"
   ]
  },
  {
   "cell_type": "markdown",
   "metadata": {},
   "source": [
    "## Performance on test data"
   ]
  },
  {
   "cell_type": "code",
   "execution_count": 12,
   "metadata": {},
   "outputs": [
    {
     "name": "stdout",
     "output_type": "stream",
     "text": [
      "Accuracy: 0.81\n",
      "Recall: 0.46\n",
      "Precision: 0.53\n",
      "ROC AUC: 0.68\n"
     ]
    },
    {
     "data": {
      "image/png": "[encoded data removed]",
      "text/plain": [
       "<Figure size 576x396 with 2 Axes>"
      ]
     },
     "metadata": {},
     "output_type": "display_data"
    }
   ],
   "source": [
    "# show results on train data\n",
    "show_classification_results(fitted_preprocessor, base_model, X_test, y_test)"
   ]
  },
  {
   "cell_type": "markdown",
   "metadata": {},
   "source": [
    "# Predictive modeling"
   ]
  },
  {
   "cell_type": "markdown",
   "metadata": {},
   "source": [
    "## Testing models"
   ]
  },
  {
   "cell_type": "code",
   "execution_count": 14,
   "metadata": {},
   "outputs": [],
   "source": [
    "# choosing the models to be tested\n",
    "models={\n",
    "    'logreg': skl_lm.LogisticRegression(max_iter=1000, random_state=RSEED,n_jobs=-1),\n",
    "    'tree': tree.DecisionTreeClassifier(criterion = \"gini\", max_depth=3,random_state=RSEED),\n",
    "    'forest': skl_e.RandomForestClassifier(random_state=RSEED, max_features='sqrt', n_jobs=-1),\n",
    "    'bayes': GaussianNB(),\n",
    "    'XGB' : xgb.XGBClassifier(seed=RSEED,  n_jobs=-1),\n",
    "    'AdaBoost' : skl_e.AdaBoostClassifier(random_state=RSEED),\n",
    "    'NN': MLPClassifier(random_state=RSEED, max_iter=100)}\n"
   ]
  },
  {
   "cell_type": "code",
   "execution_count": 15,
   "metadata": {
    "collapsed": true
   },
   "outputs": [
    {
     "name": "stderr",
     "output_type": "stream",
     "text": [
      "[Parallel(n_jobs=-1)]: Using backend LokyBackend with 4 concurrent workers.\n",
      "[Parallel(n_jobs=-1)]: Done   2 out of   5 | elapsed:  6.4min remaining:  9.5min\n",
      "[Parallel(n_jobs=-1)]: Done   5 out of   5 | elapsed:  9.9min finished\n",
      "[Parallel(n_jobs=-1)]: Using backend LokyBackend with 4 concurrent workers.\n",
      "[Parallel(n_jobs=-1)]: Done   2 out of   5 | elapsed:  5.9min remaining:  8.8min\n",
      "[Parallel(n_jobs=-1)]: Done   5 out of   5 | elapsed:  9.3min finished\n",
      "[Parallel(n_jobs=-1)]: Using backend LokyBackend with 4 concurrent workers.\n",
      "[Parallel(n_jobs=-1)]: Done   2 out of   5 | elapsed:  8.3min remaining: 12.4min\n",
      "[Parallel(n_jobs=-1)]: Done   5 out of   5 | elapsed: 12.5min finished\n",
      "[Parallel(n_jobs=-1)]: Using backend LokyBackend with 4 concurrent workers.\n",
      "[Parallel(n_jobs=-1)]: Done   2 out of   5 | elapsed:  6.0min remaining:  8.9min\n",
      "[Parallel(n_jobs=-1)]: Done   5 out of   5 | elapsed:  9.4min finished\n",
      "[Parallel(n_jobs=-1)]: Using backend LokyBackend with 4 concurrent workers.\n",
      "[Parallel(n_jobs=-1)]: Done   2 out of   5 | elapsed:  8.8min remaining: 13.2min\n",
      "[Parallel(n_jobs=-1)]: Done   5 out of   5 | elapsed: 13.5min finished\n",
      "[Parallel(n_jobs=-1)]: Using backend LokyBackend with 4 concurrent workers.\n",
      "[Parallel(n_jobs=-1)]: Done   2 out of   5 | elapsed:  6.7min remaining: 10.0min\n",
      "[Parallel(n_jobs=-1)]: Done   5 out of   5 | elapsed: 13.0min finished\n",
      "[Parallel(n_jobs=-1)]: Using backend LokyBackend with 4 concurrent workers.\n",
      "[Parallel(n_jobs=-1)]: Done   2 out of   5 | elapsed: 15.8min remaining: 23.7min\n",
      "[Parallel(n_jobs=-1)]: Done   5 out of   5 | elapsed: 21.1min finished\n"
     ]
    }
   ],
   "source": [
    "# looping through the models and summarising results\n",
    "results = pd.DataFrame(columns=['Model','Accuracy','Recall','Precision', 'F1', 'ROC auc' ])\n",
    "i=0\n",
    "\n",
    "for m in models.items():\n",
    "    # Building a full pipeline with our preprocessor, a scaler to balance the data and a classifier\n",
    "    pipe = imbPipeline([\n",
    "        ('preprocessor', preprocessor),\n",
    "        ('ADASYN', ADASYN(random_state=RSEED)),\n",
    "        (m[0], m[1])\n",
    "    ])\n",
    "\n",
    "    # Making predictions on the training set using cross validation as well as calculating the probabilities \n",
    "    y_train_predicted = skl_ms.cross_val_predict(pipe, X_train, y_train.values.ravel(), cv=5, verbose=5, n_jobs=-1)\n",
    "\n",
    "    # Calculating the accuracy for the LogisticRegression Classifier\n",
    "    temp = pd.DataFrame({\n",
    "        'Model': m[0],\n",
    "        'Accuracy': skl_m.accuracy_score(y_train, y_train_predicted),\n",
    "        'Recall' : skl_m.recall_score(y_train, y_train_predicted),\n",
    "        'Precision': skl_m.precision_score(y_train, y_train_predicted),\n",
    "        'F1': skl_m.f1_score(y_train, y_train_predicted),\n",
    "        'ROC auc': skl_m.roc_auc_score(y_train, y_train_predicted)\n",
    "\n",
    "    }, index=[i])\n",
    "    i+=1\n",
    "\n",
    "    results = pd.concat([results, temp])"
   ]
  },
  {
   "cell_type": "code",
   "execution_count": 16,
   "metadata": {},
   "outputs": [
    {
     "data": {
      "text/html": [
       "<div>\n",
       "<style scoped>\n",
       "    .dataframe tbody tr th:only-of-type {\n",
       "        vertical-align: middle;\n",
       "    }\n",
       "\n",
       "    .dataframe tbody tr th {\n",
       "        vertical-align: top;\n",
       "    }\n",
       "\n",
       "    .dataframe thead th {\n",
       "        text-align: right;\n",
       "    }\n",
       "</style>\n",
       "<table border=\"1\" class=\"dataframe\">\n",
       "  <thead>\n",
       "    <tr style=\"text-align: right;\">\n",
       "      <th></th>\n",
       "      <th>Model</th>\n",
       "      <th>Accuracy</th>\n",
       "      <th>Recall</th>\n",
       "      <th>Precision</th>\n",
       "      <th>F1</th>\n",
       "      <th>ROC auc</th>\n",
       "    </tr>\n",
       "  </thead>\n",
       "  <tbody>\n",
       "    <tr>\n",
       "      <th>0</th>\n",
       "      <td>logreg</td>\n",
       "      <td>0.74</td>\n",
       "      <td>0.77</td>\n",
       "      <td>0.42</td>\n",
       "      <td>0.54</td>\n",
       "      <td>0.75</td>\n",
       "    </tr>\n",
       "    <tr>\n",
       "      <th>1</th>\n",
       "      <td>tree</td>\n",
       "      <td>0.68</td>\n",
       "      <td>0.76</td>\n",
       "      <td>0.36</td>\n",
       "      <td>0.49</td>\n",
       "      <td>0.71</td>\n",
       "    </tr>\n",
       "    <tr>\n",
       "      <th>2</th>\n",
       "      <td>forest</td>\n",
       "      <td>0.83</td>\n",
       "      <td>0.59</td>\n",
       "      <td>0.57</td>\n",
       "      <td>0.58</td>\n",
       "      <td>0.74</td>\n",
       "    </tr>\n",
       "    <tr>\n",
       "      <th>3</th>\n",
       "      <td>bayes</td>\n",
       "      <td>0.81</td>\n",
       "      <td>0.47</td>\n",
       "      <td>0.54</td>\n",
       "      <td>0.50</td>\n",
       "      <td>0.68</td>\n",
       "    </tr>\n",
       "    <tr>\n",
       "      <th>4</th>\n",
       "      <td>XGB</td>\n",
       "      <td>0.79</td>\n",
       "      <td>0.61</td>\n",
       "      <td>0.50</td>\n",
       "      <td>0.55</td>\n",
       "      <td>0.73</td>\n",
       "    </tr>\n",
       "    <tr>\n",
       "      <th>5</th>\n",
       "      <td>AdaBoost</td>\n",
       "      <td>0.77</td>\n",
       "      <td>0.67</td>\n",
       "      <td>0.45</td>\n",
       "      <td>0.54</td>\n",
       "      <td>0.73</td>\n",
       "    </tr>\n",
       "    <tr>\n",
       "      <th>6</th>\n",
       "      <td>NN</td>\n",
       "      <td>0.75</td>\n",
       "      <td>0.74</td>\n",
       "      <td>0.43</td>\n",
       "      <td>0.54</td>\n",
       "      <td>0.74</td>\n",
       "    </tr>\n",
       "  </tbody>\n",
       "</table>\n",
       "</div>"
      ],
      "text/plain": [
       "      Model  Accuracy  Recall  Precision    F1  ROC auc\n",
       "0    logreg      0.74    0.77       0.42  0.54     0.75\n",
       "1      tree      0.68    0.76       0.36  0.49     0.71\n",
       "2    forest      0.83    0.59       0.57  0.58     0.74\n",
       "3     bayes      0.81    0.47       0.54  0.50     0.68\n",
       "4       XGB      0.79    0.61       0.50  0.55     0.73\n",
       "5  AdaBoost      0.77    0.67       0.45  0.54     0.73\n",
       "6        NN      0.75    0.74       0.43  0.54     0.74"
      ]
     },
     "execution_count": 16,
     "metadata": {},
     "output_type": "execute_result"
    }
   ],
   "source": [
    "# show model performance\n",
    "results.round(2)"
   ]
  },
  {
   "cell_type": "markdown",
   "metadata": {},
   "source": [
    "## Model optimisation"
   ]
  },
  {
   "cell_type": "markdown",
   "metadata": {},
   "source": [
    "In the following the best five models will be optimised to be used in the ensuing stacked model. "
   ]
  },
  {
   "cell_type": "code",
   "execution_count": 15,
   "metadata": {},
   "outputs": [],
   "source": [
    "# define metric for optimisation\n",
    "metric = 'roc_auc'"
   ]
  },
  {
   "cell_type": "markdown",
   "metadata": {},
   "source": [
    "### Randomized search on forest"
   ]
  },
  {
   "cell_type": "code",
   "execution_count": 18,
   "metadata": {},
   "outputs": [],
   "source": [
    "# Building a full pipeline with our preprocessor, a scaler to balance the data and a classifier\n",
    "forest_pipe = imbPipeline([\n",
    "    ('preprocessor', preprocessor),\n",
    "    ('ADASYN', ADASYN(random_state=RSEED)),\n",
    "    ('forest', skl_e.RandomForestClassifier(random_state=RSEED, n_jobs=-1))\n",
    "    ])\n",
    "\n",
    "# Defining the hyperparameters to be tested\n",
    "forest_param_grid = {\n",
    "    'forest__min_samples_split': [3, 5, 10],\n",
    "    'forest__n_estimators' : [100, 300, 500],\n",
    "    'forest__max_depth': [1, 3, 5, 10],\n",
    "    'forest__max_features': [3, 5, 7, 10, 20, 30]}"
   ]
  },
  {
   "cell_type": "code",
   "execution_count": 19,
   "metadata": {
    "collapsed": true
   },
   "outputs": [
    {
     "name": "stdout",
     "output_type": "stream",
     "text": [
      "Fitting 3 folds for each of 10 candidates, totalling 30 fits\n"
     ]
    },
    {
     "name": "stderr",
     "output_type": "stream",
     "text": [
      "[Parallel(n_jobs=-1)]: Using backend LokyBackend with 4 concurrent workers.\n",
      "[Parallel(n_jobs=-1)]: Done   5 tasks      | elapsed: 11.2min\n",
      "[Parallel(n_jobs=-1)]: Done  10 tasks      | elapsed: 17.6min\n",
      "[Parallel(n_jobs=-1)]: Done  17 tasks      | elapsed: 30.4min\n",
      "[Parallel(n_jobs=-1)]: Done  27 out of  30 | elapsed: 46.6min remaining:  5.2min\n",
      "[Parallel(n_jobs=-1)]: Done  30 out of  30 | elapsed: 50.0min finished\n"
     ]
    },
    {
     "data": {
      "text/plain": [
       "RandomizedSearchCV(cv=3,\n",
       "                   estimator=Pipeline(steps=[('preprocessor',\n",
       "                                              ColumnTransformer(transformers=[('num',\n",
       "                                                                               Pipeline(steps=[('imputer',\n",
       "                                                                                                SimpleImputer(strategy='median')),\n",
       "                                                                                               ('scaler',\n",
       "                                                                                                StandardScaler())]),\n",
       "                                                                               ['acousticness',\n",
       "                                                                                'album_track_no',\n",
       "                                                                                'danceability',\n",
       "                                                                                'duration_ms',\n",
       "                                                                                'energy',\n",
       "                                                                                'explicit',\n",
       "                                                                                'instrumentalness',\n",
       "                                                                                'liveness',\n",
       "                                                                                'loudness',\n",
       "                                                                                'speechiness',\n",
       "                                                                                'tempo',\n",
       "                                                                                'time_sig...\n",
       "                                                                                                              strategy='constant')),\n",
       "                                                                                               ('onehot',\n",
       "                                                                                                OneHotEncoder(drop='first'))]),\n",
       "                                                                               ['main_genres'])])),\n",
       "                                             ('ADASYN', ADASYN()),\n",
       "                                             ('forest',\n",
       "                                              RandomForestClassifier(n_jobs=-1))]),\n",
       "                   n_jobs=-1,\n",
       "                   param_distributions={'forest__max_depth': [1, 3, 5, 10],\n",
       "                                        'forest__max_features': [3, 5, 7, 10,\n",
       "                                                                 20, 30],\n",
       "                                        'forest__min_samples_split': [3, 5, 10],\n",
       "                                        'forest__n_estimators': [100, 300,\n",
       "                                                                 500]},\n",
       "                   scoring='roc_auc', verbose=10)"
      ]
     },
     "execution_count": 19,
     "metadata": {},
     "output_type": "execute_result"
    }
   ],
   "source": [
    "# tuning hyperparameters\n",
    "forest_rgrid = skl_ms.RandomizedSearchCV(forest_pipe, param_distributions = forest_param_grid,  cv=3, \n",
    "                                            scoring=metric, verbose=10, n_jobs=-1, random_state = RSEED)\n",
    "forest_rgrid.fit(X_train, y_train)"
   ]
  },
  {
   "cell_type": "code",
   "execution_count": 31,
   "metadata": {},
   "outputs": [
    {
     "name": "stdout",
     "output_type": "stream",
     "text": [
      "Best parameters:\n",
      "{'forest__n_estimators': 100, 'forest__min_samples_split': 5, 'forest__max_features': 7, 'forest__max_depth': 10}\n"
     ]
    }
   ],
   "source": [
    "# saving the best model\n",
    "print(\"Best parameters:\\n{}\".format(forest_rgrid.best_params_))\n",
    "forest_best_model = forest_rgrid.best_estimator_['forest']\n",
    "pickle.dump(forest_best_model, open('Pickles/forest_best_model.pkl', 'wb'))"
   ]
  },
  {
   "cell_type": "markdown",
   "metadata": {},
   "source": [
    "#### Performance on train data"
   ]
  },
  {
   "cell_type": "code",
   "execution_count": 21,
   "metadata": {},
   "outputs": [
    {
     "name": "stdout",
     "output_type": "stream",
     "text": [
      "Accuracy: 0.77\n",
      "Recall: 0.75\n",
      "Precision: 0.47\n",
      "ROC AUC: 0.76\n"
     ]
    },
    {
     "data": {
      "image/png": "[encoded data removed]",
      "text/plain": [
       "<Figure size 576x396 with 2 Axes>"
      ]
     },
     "metadata": {},
     "output_type": "display_data"
    }
   ],
   "source": [
    "show_classification_results(fitted_preprocessor, forest_best_model, X_train, y_train)"
   ]
  },
  {
   "cell_type": "markdown",
   "metadata": {},
   "source": [
    "#### Performance on test data"
   ]
  },
  {
   "cell_type": "code",
   "execution_count": 22,
   "metadata": {},
   "outputs": [
    {
     "name": "stdout",
     "output_type": "stream",
     "text": [
      "Accuracy: 0.77\n",
      "Recall: 0.74\n",
      "Precision: 0.46\n",
      "ROC AUC: 0.76\n"
     ]
    },
    {
     "data": {
      "image/png": "[encoded data removed]",
      "text/plain": [
       "<Figure size 576x396 with 2 Axes>"
      ]
     },
     "metadata": {},
     "output_type": "display_data"
    }
   ],
   "source": [
    "show_classification_results(fitted_preprocessor, forest_best_model, X_test, y_test)"
   ]
  },
  {
   "cell_type": "markdown",
   "metadata": {},
   "source": [
    "### Randomized search on logistic regression"
   ]
  },
  {
   "cell_type": "code",
   "execution_count": 23,
   "metadata": {},
   "outputs": [],
   "source": [
    "# Building a full pipeline with our preprocessor, a scaler to balance the data and a classifier\n",
    "logreg_pipe = imbPipeline([\n",
    "    ('preprocessor', preprocessor),\n",
    "    ('ADASYN', ADASYN(random_state=RSEED)),\n",
    "    ('logreg', skl_lm.LogisticRegression(random_state=RSEED, n_jobs=-1))\n",
    "    ])\n",
    "\n",
    "# Defining the hyperparameters to be tested\n",
    "logreg_param_grid = {\n",
    "    'logreg__penalty': ['l1', 'l2'],\n",
    "    'logreg__C' : np.logspace(0.0001, 4, 10),\n",
    "}\n"
   ]
  },
  {
   "cell_type": "code",
   "execution_count": 24,
   "metadata": {
    "collapsed": true
   },
   "outputs": [
    {
     "name": "stdout",
     "output_type": "stream",
     "text": [
      "Fitting 3 folds for each of 10 candidates, totalling 30 fits\n"
     ]
    },
    {
     "name": "stderr",
     "output_type": "stream",
     "text": [
      "[Parallel(n_jobs=-1)]: Using backend LokyBackend with 4 concurrent workers.\n",
      "[Parallel(n_jobs=-1)]: Done   5 tasks      | elapsed: 85.3min\n",
      "[Parallel(n_jobs=-1)]: Done  10 tasks      | elapsed: 89.7min\n",
      "[Parallel(n_jobs=-1)]: Done  17 tasks      | elapsed: 98.1min\n",
      "[Parallel(n_jobs=-1)]: Done  27 out of  30 | elapsed: 106.6min remaining: 11.8min\n",
      "[Parallel(n_jobs=-1)]: Done  30 out of  30 | elapsed: 109.4min finished\n"
     ]
    },
    {
     "data": {
      "text/plain": [
       "RandomizedSearchCV(cv=3,\n",
       "                   estimator=Pipeline(steps=[('preprocessor',\n",
       "                                              ColumnTransformer(transformers=[('num',\n",
       "                                                                               Pipeline(steps=[('imputer',\n",
       "                                                                                                SimpleImputer(strategy='median')),\n",
       "                                                                                               ('scaler',\n",
       "                                                                                                StandardScaler())]),\n",
       "                                                                               ['acousticness',\n",
       "                                                                                'album_track_no',\n",
       "                                                                                'danceability',\n",
       "                                                                                'duration_ms',\n",
       "                                                                                'energy',\n",
       "                                                                                'explicit',\n",
       "                                                                                'instrumentalness',\n",
       "                                                                                'liveness',\n",
       "                                                                                'loudness',\n",
       "                                                                                'speechiness',\n",
       "                                                                                'tempo',\n",
       "                                                                                'time_sig...\n",
       "                                                                                                OneHotEncoder(drop='first'))]),\n",
       "                                                                               ['main_genres'])])),\n",
       "                                             ('ADASYN', ADASYN()),\n",
       "                                             ('logreg',\n",
       "                                              LogisticRegression(n_jobs=-1))]),\n",
       "                   n_jobs=-1,\n",
       "                   param_distributions={'logreg__C': array([1.00023029e+00, 2.78312898e+00, 7.74402358e+00, 2.15476543e+01,\n",
       "       5.99560942e+01, 1.66827125e+02, 4.64194510e+02, 1.29161575e+03,\n",
       "       3.59390561e+03, 1.00000000e+04]),\n",
       "                                        'logreg__penalty': ['l1', 'l2']},\n",
       "                   scoring='roc_auc', verbose=10)"
      ]
     },
     "execution_count": 24,
     "metadata": {},
     "output_type": "execute_result"
    }
   ],
   "source": [
    "# tuning hyperparameters\n",
    "logreg_rgrid = skl_ms.RandomizedSearchCV(logreg_pipe, param_distributions = logreg_param_grid,  cv=3, \n",
    "                                            scoring=metric, verbose=10, n_jobs=-1, random_state = RSEED)\n",
    "logreg_rgrid.fit(X_train, y_train)"
   ]
  },
  {
   "cell_type": "code",
   "execution_count": 32,
   "metadata": {},
   "outputs": [
    {
     "name": "stdout",
     "output_type": "stream",
     "text": [
      "Best parameters:\n",
      "{'logreg__penalty': 'l2', 'logreg__C': 3593.905610111581}\n"
     ]
    }
   ],
   "source": [
    "# saving the best model\n",
    "print(\"Best parameters:\\n{}\".format(logreg_rgrid.best_params_))\n",
    "logreg_best_model = logreg_rgrid.best_estimator_['logreg']\n",
    "pickle.dump(logreg_best_model, open('Pickles/logreg_best_model.pkl', 'wb'))"
   ]
  },
  {
   "cell_type": "markdown",
   "metadata": {},
   "source": [
    "#### Performance on train data"
   ]
  },
  {
   "cell_type": "code",
   "execution_count": 26,
   "metadata": {
    "scrolled": false
   },
   "outputs": [
    {
     "name": "stdout",
     "output_type": "stream",
     "text": [
      "Accuracy: 0.74\n",
      "Recall: 0.77\n",
      "Precision: 0.42\n",
      "ROC AUC: 0.75\n"
     ]
    },
    {
     "data": {
      "image/png": "[encoded data removed]",
      "text/plain": [
       "<Figure size 576x396 with 2 Axes>"
      ]
     },
     "metadata": {},
     "output_type": "display_data"
    }
   ],
   "source": [
    "show_classification_results(fitted_preprocessor, logreg_best_model, X_train, y_train)"
   ]
  },
  {
   "cell_type": "markdown",
   "metadata": {},
   "source": [
    "#### Performance on test data"
   ]
  },
  {
   "cell_type": "code",
   "execution_count": 27,
   "metadata": {},
   "outputs": [
    {
     "name": "stdout",
     "output_type": "stream",
     "text": [
      "Accuracy: 0.74\n",
      "Recall: 0.77\n",
      "Precision: 0.42\n",
      "ROC AUC: 0.75\n"
     ]
    },
    {
     "data": {
      "image/png": "[encoded data removed]",
      "text/plain": [
       "<Figure size 576x396 with 2 Axes>"
      ]
     },
     "metadata": {},
     "output_type": "display_data"
    }
   ],
   "source": [
    "show_classification_results(fitted_preprocessor, logreg_best_model, X_test, y_test)"
   ]
  },
  {
   "cell_type": "markdown",
   "metadata": {},
   "source": [
    "### Randomized search on ADABoost"
   ]
  },
  {
   "cell_type": "code",
   "execution_count": 33,
   "metadata": {},
   "outputs": [],
   "source": [
    "# Building a full pipeline with our preprocessor, a scaler to balance the data and a classifier\n",
    "ADA_pipe = imbPipeline([\n",
    "        ('preprocessor', preprocessor),\n",
    "        ('ADASYN', ADASYN(random_state=RSEED)),\n",
    "        ('AdaBoost', skl_e.AdaBoostClassifier(random_state=RSEED))\n",
    "    ])\n",
    "\n",
    "# Defining the hyperparameters to be tested\n",
    "ADA_param_grid = {\n",
    "    'AdaBoost__n_estimators':[50, 100, 150, 200, 250, 300],                \n",
    "    'AdaBoost__learning_rate':np.logspace(0.0001, 1, 5)}  \n"
   ]
  },
  {
   "cell_type": "code",
   "execution_count": 34,
   "metadata": {
    "collapsed": true
   },
   "outputs": [
    {
     "name": "stdout",
     "output_type": "stream",
     "text": [
      "Fitting 3 folds for each of 10 candidates, totalling 30 fits\n"
     ]
    },
    {
     "name": "stderr",
     "output_type": "stream",
     "text": [
      "[Parallel(n_jobs=-1)]: Using backend LokyBackend with 4 concurrent workers.\n",
      "[Parallel(n_jobs=-1)]: Done   5 tasks      | elapsed: 16.7min\n",
      "[Parallel(n_jobs=-1)]: Done  10 tasks      | elapsed: 27.4min\n",
      "[Parallel(n_jobs=-1)]: Done  17 tasks      | elapsed: 40.4min\n",
      "[Parallel(n_jobs=-1)]: Done  27 out of  30 | elapsed: 53.2min remaining:  5.9min\n",
      "[Parallel(n_jobs=-1)]: Done  30 out of  30 | elapsed: 57.0min finished\n"
     ]
    },
    {
     "data": {
      "text/plain": [
       "RandomizedSearchCV(cv=3,\n",
       "                   estimator=Pipeline(steps=[('preprocessor',\n",
       "                                              ColumnTransformer(transformers=[('num',\n",
       "                                                                               Pipeline(steps=[('imputer',\n",
       "                                                                                                SimpleImputer(strategy='median')),\n",
       "                                                                                               ('scaler',\n",
       "                                                                                                StandardScaler())]),\n",
       "                                                                               ['acousticness',\n",
       "                                                                                'album_track_no',\n",
       "                                                                                'danceability',\n",
       "                                                                                'duration_ms',\n",
       "                                                                                'energy',\n",
       "                                                                                'explicit',\n",
       "                                                                                'instrumentalness',\n",
       "                                                                                'liveness',\n",
       "                                                                                'loudness',\n",
       "                                                                                'speechiness',\n",
       "                                                                                'tempo',\n",
       "                                                                                'time_sig...\n",
       "                                                                                                SimpleImputer(fill_value='missing',\n",
       "                                                                                                              strategy='constant')),\n",
       "                                                                                               ('onehot',\n",
       "                                                                                                OneHotEncoder(drop='first'))]),\n",
       "                                                                               ['main_genres'])])),\n",
       "                                             ('ADASYN', ADASYN()),\n",
       "                                             ('AdaBoost',\n",
       "                                              AdaBoostClassifier())]),\n",
       "                   n_jobs=-1,\n",
       "                   param_distributions={'AdaBoost__learning_rate': array([ 1.00023029,  1.77858653,  3.16264175,  5.62373697, 10.        ]),\n",
       "                                        'AdaBoost__n_estimators': [50, 100, 150,\n",
       "                                                                   200, 250,\n",
       "                                                                   300]},\n",
       "                   scoring='roc_auc', verbose=10)"
      ]
     },
     "execution_count": 34,
     "metadata": {},
     "output_type": "execute_result"
    }
   ],
   "source": [
    "# tuning hyperparameters\n",
    "ADA_rgrid = skl_ms.RandomizedSearchCV(ADA_pipe, param_distributions = ADA_param_grid,  cv=3, \n",
    "                                            scoring=metric, verbose=10, n_jobs=-1, random_state = RSEED)\n",
    "ADA_rgrid .fit(X_train, y_train)"
   ]
  },
  {
   "cell_type": "code",
   "execution_count": 35,
   "metadata": {},
   "outputs": [
    {
     "name": "stdout",
     "output_type": "stream",
     "text": [
      "Best parameters:\n",
      "{'AdaBoost__n_estimators': 200, 'AdaBoost__learning_rate': 1.778586534531975}\n"
     ]
    }
   ],
   "source": [
    "# saving the best model\n",
    "print(\"Best parameters:\\n{}\".format(ADA_rgrid.best_params_))\n",
    "ADA_best_model = ADA_rgrid.best_estimator_['AdaBoost']\n",
    "pickle.dump(ADA_best_model, open('Pickles/ADA_best_model.pkl', 'wb'))"
   ]
  },
  {
   "cell_type": "markdown",
   "metadata": {},
   "source": [
    "#### Performance on train data"
   ]
  },
  {
   "cell_type": "code",
   "execution_count": 43,
   "metadata": {
    "scrolled": false
   },
   "outputs": [
    {
     "name": "stdout",
     "output_type": "stream",
     "text": [
      "Accuracy: 0.83\n",
      "Recall: 0.44\n",
      "Precision: 0.60\n",
      "ROC AUC: 0.68\n"
     ]
    },
    {
     "data": {
      "image/png": "[encoded data removed]",
      "text/plain": [
       "<Figure size 576x396 with 2 Axes>"
      ]
     },
     "metadata": {},
     "output_type": "display_data"
    }
   ],
   "source": [
    "show_classification_results(fitted_preprocessor, ADA_best_model, X_train, y_train)"
   ]
  },
  {
   "cell_type": "markdown",
   "metadata": {},
   "source": [
    "#### Performance on test data"
   ]
  },
  {
   "cell_type": "code",
   "execution_count": 37,
   "metadata": {},
   "outputs": [
    {
     "name": "stdout",
     "output_type": "stream",
     "text": [
      "Accuracy: 0.83\n",
      "Recall: 0.44\n",
      "Precision: 0.60\n",
      "ROC AUC: 0.68\n"
     ]
    },
    {
     "data": {
      "image/png": "[encoded data removed]",
      "text/plain": [
       "<Figure size 576x396 with 2 Axes>"
      ]
     },
     "metadata": {},
     "output_type": "display_data"
    }
   ],
   "source": [
    "show_classification_results(fitted_preprocessor, ADA_best_model, X_test, y_test)"
   ]
  },
  {
   "cell_type": "markdown",
   "metadata": {},
   "source": [
    "### Randomized search on XGBoost"
   ]
  },
  {
   "cell_type": "code",
   "execution_count": 16,
   "metadata": {},
   "outputs": [],
   "source": [
    "# Building a full pipeline with our preprocessor, a scaler to balance the data and the classifier\n",
    "XGB_pipe = imbPipeline([\n",
    "        ('preprocessor', preprocessor),\n",
    "        ('ADASYN', ADASYN(random_state=RSEED)),\n",
    "        ('XGB', xgb.XGBClassifier(seed=RSEED, n_jobs=-1)) \n",
    "    ])\n",
    "\n",
    "# Defining the hyperparameters to be tested\n",
    "XGB_param_grid = {\n",
    "    'XGB__max_depth':[1, 2, 3, 5, None],\n",
    "    'XGB__learning_rate':[0.1, 0.3, 0.5, 0.8, 1],\n",
    "    'XGB__n_estimators':[100, 250, 200, 500, 1000]\n",
    "    } "
   ]
  },
  {
   "cell_type": "code",
   "execution_count": 17,
   "metadata": {
    "collapsed": true
   },
   "outputs": [
    {
     "name": "stdout",
     "output_type": "stream",
     "text": [
      "Fitting 3 folds for each of 10 candidates, totalling 30 fits\n"
     ]
    },
    {
     "name": "stderr",
     "output_type": "stream",
     "text": [
      "[Parallel(n_jobs=-1)]: Using backend LokyBackend with 4 concurrent workers.\n",
      "[Parallel(n_jobs=-1)]: Done   5 tasks      | elapsed: 21.8min\n",
      "[Parallel(n_jobs=-1)]: Done  10 tasks      | elapsed: 42.1min\n",
      "[Parallel(n_jobs=-1)]: Done  17 tasks      | elapsed: 69.8min\n",
      "[Parallel(n_jobs=-1)]: Done  27 out of  30 | elapsed: 94.7min remaining: 10.5min\n",
      "[Parallel(n_jobs=-1)]: Done  30 out of  30 | elapsed: 103.7min finished\n"
     ]
    },
    {
     "data": {
      "text/plain": [
       "RandomizedSearchCV(cv=3,\n",
       "                   estimator=Pipeline(steps=[('preprocessor',\n",
       "                                              ColumnTransformer(transformers=[('num',\n",
       "                                                                               Pipeline(steps=[('imputer',\n",
       "                                                                                                SimpleImputer(strategy='median')),\n",
       "                                                                                               ('scaler',\n",
       "                                                                                                StandardScaler())]),\n",
       "                                                                               ['acousticness',\n",
       "                                                                                'album_track_no',\n",
       "                                                                                'danceability',\n",
       "                                                                                'duration_ms',\n",
       "                                                                                'energy',\n",
       "                                                                                'explicit',\n",
       "                                                                                'instrumentalness',\n",
       "                                                                                'liveness',\n",
       "                                                                                'loudness',\n",
       "                                                                                'speechiness',\n",
       "                                                                                'tempo',\n",
       "                                                                                'time_sig...\n",
       "                                                                                                SimpleImputer(fill_value='missing',\n",
       "                                                                                                              strategy='constant')),\n",
       "                                                                                               ('onehot',\n",
       "                                                                                                OneHotEncoder(drop='first'))]),\n",
       "                                                                               ['main_genres'])])),\n",
       "                                             ('ADASYN', ADASYN()),\n",
       "                                             ('XGB',\n",
       "                                              XGBClassifier(n_jobs=-1))]),\n",
       "                   n_jobs=-1,\n",
       "                   param_distributions={'XGB__learning_rate': [0.1, 0.3, 0.5,\n",
       "                                                               0.8, 1],\n",
       "                                        'XGB__max_depth': [1, 2, 3, 5, None],\n",
       "                                        'XGB__n_estimators': [100, 250, 200,\n",
       "                                                              500, 1000]},\n",
       "                   scoring='roc_auc', verbose=10)"
      ]
     },
     "execution_count": 17,
     "metadata": {},
     "output_type": "execute_result"
    }
   ],
   "source": [
    "# tuning hyperparameters\n",
    "XGB_rgrid = skl_ms.RandomizedSearchCV(XGB_pipe, param_distributions = XGB_param_grid,  cv=3, \n",
    "                                            scoring=metric, verbose=10, n_jobs=-1, random_state = RSEED)\n",
    "XGB_rgrid .fit(X_train, y_train)"
   ]
  },
  {
   "cell_type": "code",
   "execution_count": 18,
   "metadata": {},
   "outputs": [
    {
     "name": "stdout",
     "output_type": "stream",
     "text": [
      "Best parameters:\n",
      "{'XGB__n_estimators': 1000, 'XGB__max_depth': 3, 'XGB__learning_rate': 0.1}\n"
     ]
    }
   ],
   "source": [
    "# saving the best model\n",
    "print(\"Best parameters:\\n{}\".format(XGB_rgrid.best_params_))\n",
    "XGB_best_model = XGB_rgrid.best_estimator_['XGB']\n",
    "pickle.dump(XGB_best_model, open('Pickles/XGB_best_model.pkl', 'wb'))"
   ]
  },
  {
   "cell_type": "markdown",
   "metadata": {},
   "source": [
    "#### Performance on train data"
   ]
  },
  {
   "cell_type": "code",
   "execution_count": 19,
   "metadata": {},
   "outputs": [
    {
     "name": "stdout",
     "output_type": "stream",
     "text": [
      "Accuracy: 0.84\n",
      "Recall: 0.53\n",
      "Precision: 0.63\n",
      "ROC AUC: 0.72\n"
     ]
    },
    {
     "data": {
      "image/png": "[encoded data removed]",
      "text/plain": [
       "<Figure size 576x396 with 2 Axes>"
      ]
     },
     "metadata": {},
     "output_type": "display_data"
    }
   ],
   "source": [
    "show_classification_results(fitted_preprocessor, XGB_best_model, X_train, y_train)"
   ]
  },
  {
   "cell_type": "markdown",
   "metadata": {},
   "source": [
    "#### Performance on test data"
   ]
  },
  {
   "cell_type": "code",
   "execution_count": 20,
   "metadata": {},
   "outputs": [
    {
     "name": "stdout",
     "output_type": "stream",
     "text": [
      "Accuracy: 0.84\n",
      "Recall: 0.52\n",
      "Precision: 0.62\n",
      "ROC AUC: 0.72\n"
     ]
    },
    {
     "data": {
      "image/png": "[encoded data removed]",
      "text/plain": [
       "<Figure size 576x396 with 2 Axes>"
      ]
     },
     "metadata": {},
     "output_type": "display_data"
    }
   ],
   "source": [
    "show_classification_results(fitted_preprocessor, XGB_best_model, X_test, y_test)"
   ]
  },
  {
   "cell_type": "markdown",
   "metadata": {},
   "source": [
    "### Randomized search on neural network"
   ]
  },
  {
   "cell_type": "code",
   "execution_count": 21,
   "metadata": {},
   "outputs": [],
   "source": [
    "# Building a full pipeline with our preprocessor, a scaler to balance the data and the classifier\n",
    "NN_pipe = imbPipeline([\n",
    "        ('preprocessor', preprocessor),\n",
    "        ('ADASYN', ADASYN(random_state=RSEED)),\n",
    "        ('NN', MLPClassifier(random_state=RSEED, max_iter=100))\n",
    "    ])\n",
    "\n",
    "# Defining the hyperparameters to be tested\n",
    "NN_param_grid = {\n",
    "    'NN__hidden_layer_sizes': [(10,30,10),(20,)],\n",
    "    'NN__activation': ['tanh', 'relu'],\n",
    "    'NN__solver': ['sgd', 'adam'],\n",
    "    'NN__alpha': [0.0001, 0.05],\n",
    "    'NN__learning_rate': ['constant','adaptive'],\n",
    "    } "
   ]
  },
  {
   "cell_type": "code",
   "execution_count": 22,
   "metadata": {
    "collapsed": true
   },
   "outputs": [
    {
     "name": "stdout",
     "output_type": "stream",
     "text": [
      "Fitting 3 folds for each of 10 candidates, totalling 30 fits\n"
     ]
    },
    {
     "name": "stderr",
     "output_type": "stream",
     "text": [
      "[Parallel(n_jobs=-1)]: Using backend LokyBackend with 4 concurrent workers.\n",
      "[Parallel(n_jobs=-1)]: Done   5 tasks      | elapsed: 14.2min\n",
      "[Parallel(n_jobs=-1)]: Done  10 tasks      | elapsed: 22.5min\n",
      "[Parallel(n_jobs=-1)]: Done  17 tasks      | elapsed: 37.9min\n",
      "[Parallel(n_jobs=-1)]: Done  27 out of  30 | elapsed: 54.4min remaining:  6.0min\n",
      "[Parallel(n_jobs=-1)]: Done  30 out of  30 | elapsed: 59.2min finished\n",
      "/Users/vivika/opt/anaconda3/envs/nf/lib/python3.6/site-packages/sklearn/neural_network/_multilayer_perceptron.py:585: ConvergenceWarning: Stochastic Optimizer: Maximum iterations (100) reached and the optimization hasn't converged yet.\n",
      "  % self.max_iter, ConvergenceWarning)\n"
     ]
    },
    {
     "data": {
      "text/plain": [
       "RandomizedSearchCV(cv=3,\n",
       "                   estimator=Pipeline(steps=[('preprocessor',\n",
       "                                              ColumnTransformer(transformers=[('num',\n",
       "                                                                               Pipeline(steps=[('imputer',\n",
       "                                                                                                SimpleImputer(strategy='median')),\n",
       "                                                                                               ('scaler',\n",
       "                                                                                                StandardScaler())]),\n",
       "                                                                               ['acousticness',\n",
       "                                                                                'album_track_no',\n",
       "                                                                                'danceability',\n",
       "                                                                                'duration_ms',\n",
       "                                                                                'energy',\n",
       "                                                                                'explicit',\n",
       "                                                                                'instrumentalness',\n",
       "                                                                                'liveness',\n",
       "                                                                                'loudness',\n",
       "                                                                                'speechiness',\n",
       "                                                                                'tempo',\n",
       "                                                                                'time_sig...\n",
       "                                                                                               ('onehot',\n",
       "                                                                                                OneHotEncoder(drop='first'))]),\n",
       "                                                                               ['main_genres'])])),\n",
       "                                             ('ADASYN', ADASYN()),\n",
       "                                             ('NN',\n",
       "                                              MLPClassifier(max_iter=100))]),\n",
       "                   n_jobs=-1,\n",
       "                   param_distributions={'NN__activation': ['tanh', 'relu'],\n",
       "                                        'NN__alpha': [0.0001, 0.05],\n",
       "                                        'NN__hidden_layer_sizes': [(10, 30, 10),\n",
       "                                                                   (20,)],\n",
       "                                        'NN__learning_rate': ['constant',\n",
       "                                                              'adaptive'],\n",
       "                                        'NN__solver': ['sgd', 'adam']},\n",
       "                   scoring='roc_auc', verbose=10)"
      ]
     },
     "execution_count": 22,
     "metadata": {},
     "output_type": "execute_result"
    }
   ],
   "source": [
    "# tuning hyperparameters\n",
    "NN_rgrid = skl_ms.RandomizedSearchCV(NN_pipe, param_distributions = NN_param_grid,  cv=3, \n",
    "                                            scoring=metric, verbose=10, n_jobs=-1, random_state = RSEED)\n",
    "NN_rgrid.fit(X_train, y_train)"
   ]
  },
  {
   "cell_type": "code",
   "execution_count": 23,
   "metadata": {},
   "outputs": [
    {
     "name": "stdout",
     "output_type": "stream",
     "text": [
      "Best parameters:\n",
      "{'NN__solver': 'sgd', 'NN__learning_rate': 'adaptive', 'NN__hidden_layer_sizes': (20,), 'NN__alpha': 0.05, 'NN__activation': 'tanh'}\n"
     ]
    }
   ],
   "source": [
    "# saving the best model\n",
    "print(\"Best parameters:\\n{}\".format(NN_rgrid.best_params_))\n",
    "NN_best_model = NN_rgrid.best_estimator_['NN']\n",
    "pickle.dump(NN_best_model, open('Pickles/NN_best_model.pkl', 'wb'))"
   ]
  },
  {
   "cell_type": "markdown",
   "metadata": {},
   "source": [
    "#### Performance on train data"
   ]
  },
  {
   "cell_type": "code",
   "execution_count": 24,
   "metadata": {},
   "outputs": [
    {
     "name": "stdout",
     "output_type": "stream",
     "text": [
      "Accuracy: 0.74\n",
      "Recall: 0.79\n",
      "Precision: 0.43\n",
      "ROC AUC: 0.76\n"
     ]
    },
    {
     "data": {
      "image/png": "[encoded data removed]",
      "text/plain": [
       "<Figure size 576x396 with 2 Axes>"
      ]
     },
     "metadata": {},
     "output_type": "display_data"
    }
   ],
   "source": [
    "show_classification_results(fitted_preprocessor, NN_best_model, X_train, y_train)"
   ]
  },
  {
   "cell_type": "markdown",
   "metadata": {},
   "source": [
    "#### Performance on test data"
   ]
  },
  {
   "cell_type": "code",
   "execution_count": 25,
   "metadata": {},
   "outputs": [
    {
     "name": "stdout",
     "output_type": "stream",
     "text": [
      "Accuracy: 0.74\n",
      "Recall: 0.79\n",
      "Precision: 0.42\n",
      "ROC AUC: 0.76\n"
     ]
    },
    {
     "data": {
      "image/png": "[encoded data removed]",
      "text/plain": [
       "<Figure size 576x396 with 2 Axes>"
      ]
     },
     "metadata": {},
     "output_type": "display_data"
    }
   ],
   "source": [
    "show_classification_results(fitted_preprocessor, NN_best_model, X_test, y_test)"
   ]
  },
  {
   "cell_type": "markdown",
   "metadata": {},
   "source": [
    "## Stacked model"
   ]
  },
  {
   "cell_type": "code",
   "execution_count": 27,
   "metadata": {},
   "outputs": [],
   "source": [
    "# Reloading the models from pickle, so the notebook does not have to be rerun completely\n",
    "forest_best_model = pickle.load(open('Pickles/forest_best_model.pkl', 'rb'))\n",
    "logreg_best_model = pickle.load(open('Pickles/logreg_best_model.pkl', 'rb'))\n",
    "ADA_best_model = pickle.load(open('Pickles/ADA_best_model.pkl', 'rb'))\n",
    "XGB_best_model = pickle.load(open('Pickles/XGB_best_model.pkl', 'rb'))\n",
    "NN_best_model = pickle.load(open('Pickles/NN_best_model.pkl', 'rb'))\n"
   ]
  },
  {
   "cell_type": "code",
   "execution_count": 28,
   "metadata": {},
   "outputs": [],
   "source": [
    "# Defining the models for the base layer\n",
    "base_models=models={\n",
    "    'logreg': logreg_best_model,\n",
    "    'forest': forest_best_model,\n",
    "    'XGB' : XGB_best_model,\n",
    "    'AdaBoost' : ADA_best_model,\n",
    "    'NN': NN_best_model\n",
    "}"
   ]
  },
  {
   "cell_type": "code",
   "execution_count": 29,
   "metadata": {
    "collapsed": true
   },
   "outputs": [
    {
     "name": "stderr",
     "output_type": "stream",
     "text": [
      "[Parallel(n_jobs=-1)]: Using backend LokyBackend with 4 concurrent workers.\n",
      "[Parallel(n_jobs=-1)]: Done   3 out of   3 | elapsed: 52.6min remaining:    0.0s\n",
      "[Parallel(n_jobs=-1)]: Done   3 out of   3 | elapsed: 52.6min finished\n",
      "[Parallel(n_jobs=-1)]: Using backend LokyBackend with 4 concurrent workers.\n",
      "[Parallel(n_jobs=-1)]: Done   3 out of   3 | elapsed: 53.8min remaining:    0.0s\n",
      "[Parallel(n_jobs=-1)]: Done   3 out of   3 | elapsed: 53.8min finished\n"
     ]
    }
   ],
   "source": [
    "# making a prediction with a stacking ensemble\n",
    "# defining the base models\n",
    "level0 = list(base_models.items())\n",
    "\n",
    "# defining meta learner model\n",
    "level1 = skl_lm.LogisticRegression()\n",
    "\n",
    "# defining the stacking ensemble\n",
    "stack = StackingClassifier(estimators=level0, final_estimator=level1, cv=3, n_jobs=-1)\n",
    "\n",
    "# build pipe\n",
    "stacked_pipe =  imbPipeline([\n",
    "    ('preprocessor', preprocessor),\n",
    "    ('ADASYN', ADASYN(random_state=RSEED)),\n",
    "    ('stack', stack)])\n",
    "\n",
    "# cross-validation scores\n",
    "scores = skl_ms.cross_val_score(stacked_pipe, X_train, y_train.values.ravel(), scoring=metric, cv=3, n_jobs=-1, verbose=5)\n",
    "\n",
    "\n",
    "# make a prediction for one example\n",
    "y_train_predicted = skl_ms.cross_val_predict(stacked_pipe, X_train, y_train.values.ravel(), cv=3, n_jobs=-1, verbose=5)\n"
   ]
  },
  {
   "cell_type": "code",
   "execution_count": 30,
   "metadata": {
    "collapsed": true
   },
   "outputs": [
    {
     "name": "stderr",
     "output_type": "stream",
     "text": [
      "/Users/vivika/opt/anaconda3/envs/nf/lib/python3.6/site-packages/sklearn/neural_network/_multilayer_perceptron.py:585: ConvergenceWarning: Stochastic Optimizer: Maximum iterations (100) reached and the optimization hasn't converged yet.\n",
      "  % self.max_iter, ConvergenceWarning)\n",
      "/Users/vivika/opt/anaconda3/envs/nf/lib/python3.6/site-packages/sklearn/neural_network/_multilayer_perceptron.py:585: ConvergenceWarning: Stochastic Optimizer: Maximum iterations (100) reached and the optimization hasn't converged yet.\n",
      "  % self.max_iter, ConvergenceWarning)\n",
      "/Users/vivika/opt/anaconda3/envs/nf/lib/python3.6/site-packages/sklearn/neural_network/_multilayer_perceptron.py:585: ConvergenceWarning: Stochastic Optimizer: Maximum iterations (100) reached and the optimization hasn't converged yet.\n",
      "  % self.max_iter, ConvergenceWarning)\n",
      "/Users/vivika/opt/anaconda3/envs/nf/lib/python3.6/site-packages/sklearn/neural_network/_multilayer_perceptron.py:585: ConvergenceWarning: Stochastic Optimizer: Maximum iterations (100) reached and the optimization hasn't converged yet.\n",
      "  % self.max_iter, ConvergenceWarning)\n"
     ]
    }
   ],
   "source": [
    "# fitting and saving the model\n",
    "stacked_pipe.fit(X_train, y_train)\n",
    "stacked_model = stacked_pipe['stack']\n",
    "pickle.dump(stacked_model, open('Pickles/stacked_model.pkl', 'wb'))"
   ]
  },
  {
   "cell_type": "code",
   "execution_count": 31,
   "metadata": {},
   "outputs": [
    {
     "name": "stdout",
     "output_type": "stream",
     "text": [
      "Cross-validation scores[0.8225829  0.84104211 0.82574483]\n"
     ]
    }
   ],
   "source": [
    "print(\"Cross-validation scores\"+str(scores))"
   ]
  },
  {
   "cell_type": "markdown",
   "metadata": {},
   "source": [
    "### Performance on train data"
   ]
  },
  {
   "cell_type": "code",
   "execution_count": 32,
   "metadata": {},
   "outputs": [
    {
     "name": "stdout",
     "output_type": "stream",
     "text": [
      "Accuracy: 0.81\n",
      "Recall: 0.69\n",
      "Precision: 0.53\n",
      "ROC AUC: 0.76\n"
     ]
    },
    {
     "data": {
      "image/png": "[encoded data removed]",
      "text/plain": [
       "<Figure size 576x396 with 2 Axes>"
      ]
     },
     "metadata": {},
     "output_type": "display_data"
    }
   ],
   "source": [
    "show_classification_results(fitted_preprocessor, stacked_model, X_train, y_train)"
   ]
  },
  {
   "cell_type": "markdown",
   "metadata": {},
   "source": [
    "### Performance on test data"
   ]
  },
  {
   "cell_type": "code",
   "execution_count": 33,
   "metadata": {
    "scrolled": false
   },
   "outputs": [
    {
     "name": "stdout",
     "output_type": "stream",
     "text": [
      "Accuracy: 0.81\n",
      "Recall: 0.68\n",
      "Precision: 0.52\n",
      "ROC AUC: 0.76\n"
     ]
    },
    {
     "data": {
      "image/png": "[encoded data removed]",
      "text/plain": [
       "<Figure size 576x396 with 2 Axes>"
      ]
     },
     "metadata": {},
     "output_type": "display_data"
    }
   ],
   "source": [
    "show_classification_results(fitted_preprocessor, stacked_model, X_test, y_test)"
   ]
  },
  {
   "cell_type": "markdown",
   "metadata": {},
   "source": [
    "## Feature importance"
   ]
  },
  {
   "cell_type": "code",
   "execution_count": 34,
   "metadata": {},
   "outputs": [
    {
     "name": "stdout",
     "output_type": "stream",
     "text": [
      "              features  importance\n",
      "0                month    0.177643\n",
      "1       album_track_no    0.129102\n",
      "2            no_genres    0.124972\n",
      "3   total_album_tracks    0.062717\n",
      "4             explicit    0.061386\n",
      "5     instrumentalness    0.044494\n",
      "6          duration_ms    0.034274\n",
      "7       place_in_album    0.021296\n",
      "8          speechiness    0.015775\n",
      "9          main_genres    0.013950\n",
      "10        acousticness    0.013914\n",
      "11            loudness    0.012644\n",
      "12      time_signature    0.012153\n",
      "13               tempo    0.011372\n",
      "14            liveness    0.010317\n",
      "15              energy    0.006439\n",
      "16        danceability    0.006165\n"
     ]
    },
    {
     "data": {
      "image/png": "[encoded data removed]",
      "text/plain": [
       "<Figure size 576x396 with 1 Axes>"
      ]
     },
     "metadata": {},
     "output_type": "display_data"
    }
   ],
   "source": [
    "# feature importance\n",
    "imp = pd.DataFrame([x for x in zip(numeric_features+categoric_features,XGB_best_model.feature_importances_)])\n",
    "imp.columns = ['features', 'importance']\n",
    "imp = imp.sort_values(['importance'], ascending=False).reset_index(drop=True)\n",
    "print(imp)\n",
    "# plot\n",
    "sns.set(style=\"whitegrid\")\n",
    "chart=sns.barplot(x='features',y ='importance', data = imp, palette='viridis', order = imp['features'])\n",
    "chart.set_xticklabels(chart.get_xticklabels(), rotation=90);\n",
    "plt.tight_layout()\n",
    "plt.savefig('figures/feature_imp_classification.png')"
   ]
  },
  {
   "cell_type": "markdown",
   "metadata": {},
   "source": [
    "## Results\n",
    "When comparing the results of the different models AdaBoost fails is the only model that fails to outperform the Naive Bayes baseline model in terms of ROC AUC (0.68 for both). All other models show ROC AUC values between 0.72 and 0.76 although they vary in precision and recall. \n",
    "All models show consistent performance on the train and the test data.\n",
    "\n",
    "The random forest has a very balanced confusion matrix and scores reasonably overall, which makes it the most suitable model. If we however want to emphasise the certainty of a songs popularity XGBoost provides the most reliable outcomes, as indicated by it high precision score.\n",
    "\n",
    "The stacked model fails to outperform the individual models, not justifying adding this level of complexity."
   ]
  },
  {
   "cell_type": "code",
   "execution_count": 47,
   "metadata": {},
   "outputs": [],
   "source": [
    "# chosing the best models and saving them\n",
    "balanced_model = forest_best_model\n",
    "strict_model = XGB_best_model\n",
    "\n",
    "pickle.dump(preprocessor, open('Pickles/fitted_preprocessor.pkl', 'wb'))\n",
    "pickle.dump(balanced_model, open('Pickles/balanced_model.pkl', 'wb'))\n",
    "pickle.dump(strict_model, open('Pickles/strict_model.pkl', 'wb'))"
   ]
  },
  {
   "cell_type": "markdown",
   "metadata": {},
   "source": [
    "### Test for app"
   ]
  },
  {
   "cell_type": "code",
   "execution_count": 74,
   "metadata": {},
   "outputs": [],
   "source": [
    "info_entered = df.sample(1).T.to_dict()\n",
    "info_entered = info_entered[list(info_entered.keys())[0]]"
   ]
  },
  {
   "cell_type": "code",
   "execution_count": 75,
   "metadata": {},
   "outputs": [
    {
     "data": {
      "text/html": [
       "<div>\n",
       "<style scoped>\n",
       "    .dataframe tbody tr th:only-of-type {\n",
       "        vertical-align: middle;\n",
       "    }\n",
       "\n",
       "    .dataframe tbody tr th {\n",
       "        vertical-align: top;\n",
       "    }\n",
       "\n",
       "    .dataframe thead th {\n",
       "        text-align: right;\n",
       "    }\n",
       "</style>\n",
       "<table border=\"1\" class=\"dataframe\">\n",
       "  <thead>\n",
       "    <tr style=\"text-align: right;\">\n",
       "      <th></th>\n",
       "      <th>acousticness</th>\n",
       "      <th>album</th>\n",
       "      <th>album_track_no</th>\n",
       "      <th>artists</th>\n",
       "      <th>artists_id</th>\n",
       "      <th>available_markets</th>\n",
       "      <th>cover_url</th>\n",
       "      <th>danceability</th>\n",
       "      <th>duration_ms</th>\n",
       "      <th>energy</th>\n",
       "      <th>...</th>\n",
       "      <th>tempo</th>\n",
       "      <th>time_signature</th>\n",
       "      <th>total_album_tracks</th>\n",
       "      <th>track_id</th>\n",
       "      <th>genres</th>\n",
       "      <th>place_in_album</th>\n",
       "      <th>month</th>\n",
       "      <th>main_genres</th>\n",
       "      <th>no_genres</th>\n",
       "      <th>popular_class</th>\n",
       "    </tr>\n",
       "  </thead>\n",
       "  <tbody>\n",
       "    <tr>\n",
       "      <th>0</th>\n",
       "      <td>0.00224</td>\n",
       "      <td>Remember Why You Started (feat. Alpha, Jones 2...</td>\n",
       "      <td>1</td>\n",
       "      <td>Fearless Motivation</td>\n",
       "      <td>1FhamVtJlNqaekPnwxQpbk</td>\n",
       "      <td>['AD', 'AE', 'AL', 'AR', 'AT', 'AU', 'BA', 'BE...</td>\n",
       "      <td>https://i.scdn.co/image/ab67616d0000b27316e284...</td>\n",
       "      <td>0.404</td>\n",
       "      <td>230000</td>\n",
       "      <td>0.784</td>\n",
       "      <td>...</td>\n",
       "      <td>170.09</td>\n",
       "      <td>4.0</td>\n",
       "      <td>1</td>\n",
       "      <td>6NgP0t2l8f48eLNX5T9aFy</td>\n",
       "      <td>['motivation']</td>\n",
       "      <td>1.0</td>\n",
       "      <td>5.0</td>\n",
       "      <td>other</td>\n",
       "      <td>1</td>\n",
       "      <td>1</td>\n",
       "    </tr>\n",
       "  </tbody>\n",
       "</table>\n",
       "<p>1 rows × 28 columns</p>\n",
       "</div>"
      ],
      "text/plain": [
       "   acousticness                                              album  \\\n",
       "0       0.00224  Remember Why You Started (feat. Alpha, Jones 2...   \n",
       "\n",
       "  album_track_no              artists              artists_id  \\\n",
       "0              1  Fearless Motivation  1FhamVtJlNqaekPnwxQpbk   \n",
       "\n",
       "                                   available_markets  \\\n",
       "0  ['AD', 'AE', 'AL', 'AR', 'AT', 'AU', 'BA', 'BE...   \n",
       "\n",
       "                                           cover_url  danceability  \\\n",
       "0  https://i.scdn.co/image/ab67616d0000b27316e284...         0.404   \n",
       "\n",
       "  duration_ms  energy  ...   tempo  time_signature  total_album_tracks  \\\n",
       "0      230000   0.784  ...  170.09             4.0                   1   \n",
       "\n",
       "                 track_id          genres place_in_album month  main_genres  \\\n",
       "0  6NgP0t2l8f48eLNX5T9aFy  ['motivation']            1.0   5.0        other   \n",
       "\n",
       "   no_genres  popular_class  \n",
       "0          1              1  \n",
       "\n",
       "[1 rows x 28 columns]"
      ]
     },
     "execution_count": 75,
     "metadata": {},
     "output_type": "execute_result"
    }
   ],
   "source": [
    "info_entered = pd.DataFrame(columns=info_entered.keys()).append(info_entered, ignore_index = True)\n",
    "info_entered.drop('popularity', axis=1, inplace=True)\n",
    "info_entered"
   ]
  },
  {
   "cell_type": "code",
   "execution_count": 76,
   "metadata": {},
   "outputs": [
    {
     "name": "stdout",
     "output_type": "stream",
     "text": [
      "Predicted popularity class by balanced model:\n",
      "1\n",
      "Predicted popularity class by strict model:\n",
      "1\n"
     ]
    },
    {
     "name": "stderr",
     "output_type": "stream",
     "text": [
      "/Users/vivika/opt/anaconda3/envs/nf/lib/python3.6/site-packages/sklearn/compose/_column_transformer.py:440: FutureWarning: Given feature/column names or counts do not match the ones for the data given during fit. This will fail from v0.24.\n",
      "  FutureWarning)\n"
     ]
    }
   ],
   "source": [
    "info_preprocessed = fitted_preprocessor.transform(info_entered)\n",
    "print('Predicted popularity class by balanced model:\\n{:.0f}'.format(int(balanced_model.predict(info_preprocessed))))\n",
    "print('Predicted popularity class by strict model:\\n{:.0f}'.format(int(strict_model.predict(info_preprocessed))))\n"
   ]
  }
 ],
 "metadata": {
  "kernelspec": {
   "display_name": "Python [conda env:nf] *",
   "language": "python",
   "name": "conda-env-nf-py"
  },
  "language_info": {
   "codemirror_mode": {
    "name": "ipython",
    "version": 3
   },
   "file_extension": ".py",
   "mimetype": "text/x-python",
   "name": "python",
   "nbconvert_exporter": "python",
   "pygments_lexer": "ipython3",
   "version": "3.6.10"
  },
  "toc": {
   "base_numbering": 1,
   "nav_menu": {},
   "number_sections": true,
   "sideBar": true,
   "skip_h1_title": false,
   "title_cell": "Table of Contents",
   "title_sidebar": "Contents",
   "toc_cell": false,
   "toc_position": {
    "height": "calc(100% - 180px)",
    "left": "10px",
    "top": "150px",
    "width": "306.25px"
   },
   "toc_section_display": true,
   "toc_window_display": true
  },
  "varInspector": {
   "cols": {
    "lenName": 16,
    "lenType": 16,
    "lenVar": 40
   },
   "kernels_config": {
    "python": {
     "delete_cmd_postfix": "",
     "delete_cmd_prefix": "del ",
     "library": "var_list.py",
     "varRefreshCmd": "print(var_dic_list())"
    },
    "r": {
     "delete_cmd_postfix": ") ",
     "delete_cmd_prefix": "rm(",
     "library": "var_list.r",
     "varRefreshCmd": "cat(var_dic_list()) "
    }
   },
   "types_to_exclude": [
    "module",
    "function",
    "builtin_function_or_method",
    "instance",
    "_Feature"
   ],
   "window_display": false
  }
 },
 "nbformat": 4,
 "nbformat_minor": 4
}
