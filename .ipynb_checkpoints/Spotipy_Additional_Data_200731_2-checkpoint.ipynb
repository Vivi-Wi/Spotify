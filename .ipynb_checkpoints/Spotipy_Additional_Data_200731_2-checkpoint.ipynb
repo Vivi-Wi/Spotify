{
 "cells": [
  {
   "cell_type": "markdown",
   "metadata": {},
   "source": [
    "# Set Up"
   ]
  },
  {
   "cell_type": "code",
   "execution_count": 1,
   "metadata": {},
   "outputs": [],
   "source": [
    "import pandas as pd\n",
    "import time\n",
    "from tqdm import tqdm\n",
    "\n",
    "import requests\n",
    "from bs4 import BeautifulSoup\n",
    "\n",
    "import spotipy\n",
    "from spotipy.oauth2 import SpotifyClientCredentials"
   ]
  },
  {
   "cell_type": "code",
   "execution_count": 2,
   "metadata": {},
   "outputs": [],
   "source": [
    "cid = '31ee89e1519f42678d5fe1eb2c8e2f14' #'Your Client ID'\n",
    "secret = 'd34e8b1199d3449b82257b28cab92b71' #'Your Secret ID'\n",
    "\n",
    "client_credentials_manager = SpotifyClientCredentials(client_id=cid,\n",
    "                                                      client_secret=secret)\n",
    "sp = spotipy.Spotify(client_credentials_manager=client_credentials_manager)"
   ]
  },
  {
   "cell_type": "markdown",
   "metadata": {},
   "source": [
    "# Auxiliary Functions"
   ]
  },
  {
   "cell_type": "code",
   "execution_count": 3,
   "metadata": {},
   "outputs": [],
   "source": [
    "def getTrackIDs(user, playlist_id):\n",
    "    '''\n",
    "    Retrives Track IDs from a given playlist. The iputs are the username (found in the URL) of the person \n",
    "    who created the playlist, and then the playlist URI which you can find by \n",
    "    hitting the setting button on the playlist where you’d find the share link.\n",
    "    Returns a list of track ids.\n",
    "    '''\n",
    "    ids = []\n",
    "    playlist = sp.user_playlist(user, playlist_id)\n",
    "    for item in playlist['tracks']['items']:\n",
    "        track = item['track']\n",
    "        ids.append(track['id'])\n",
    "    return ids"
   ]
  },
  {
   "cell_type": "code",
   "execution_count": 4,
   "metadata": {},
   "outputs": [],
   "source": [
    "def getTrackFeatures(id):\n",
    "    '''\n",
    "    gets track info via track ids\n",
    "    https://medium.com/better-programming/how-to-extract-any-artists-data-using-spotify-s-api-python-and-spotipy-4c079401bc37\n",
    "    '''\n",
    "    meta = sp.track(id)\n",
    "    features = sp.audio_features(id)\n",
    "    \n",
    "    # meta\n",
    "    name = meta['name']\n",
    "    track_id = meta['id']\n",
    "    album = meta['album']['name']\n",
    "    artists = meta['album']['artists'][0]['name']\n",
    "    release_date = meta['album']['release_date']\n",
    "    duration_ms = meta['duration_ms']\n",
    "    popularity = meta['popularity']\n",
    "    cover_url = meta['album']['images'][0]['url']\n",
    "    \n",
    "    # features\n",
    "    acousticness = features[0]['acousticness']\n",
    "    danceability = features[0]['danceability']\n",
    "    energy = features[0]['energy']\n",
    "    instrumentalness = features[0]['instrumentalness']\n",
    "    liveness = features[0]['liveness']\n",
    "    loudness = features[0]['loudness']\n",
    "    speechiness = features[0]['speechiness']\n",
    "    tempo = features[0]['tempo']\n",
    "    time_signature = features[0]['time_signature']\n",
    "    \n",
    "    # artists' genres\n",
    "    artist_id = meta['album']['artists'][0]['id']\n",
    "    genres = sp.artist(artist_id)['genres']\n",
    "        \n",
    "    track = [name, track_id, album, artists, release_date, duration_ms, popularity, cover_url, danceability, acousticness, danceability, energy, instrumentalness, liveness, loudness, speechiness, tempo, time_signature, genres]\n",
    "    return track"
   ]
  },
  {
   "cell_type": "markdown",
   "metadata": {},
   "source": [
    "# Retrieving track info --> 2000 albums"
   ]
  },
  {
   "cell_type": "code",
   "execution_count": 112,
   "metadata": {},
   "outputs": [
    {
     "name": "stderr",
     "output_type": "stream",
     "text": [
      "100%|██████████| 20/20 [00:01<00:00, 15.73it/s]\n"
     ]
    }
   ],
   "source": [
    "track_ids = []\n",
    "album_ids = []\n",
    "errors = []\n",
    "tracks = []\n",
    "\n",
    "for i in tqdm(range(0,2000)):\n",
    "    results = sp.search(q='year:2019', type='album', offset=i)\n",
    "    items = results['albums']['items']\n",
    "    if len(items) > 0:\n",
    "        album = items[0]\n",
    "        album_ids.append(album['id'])\n",
    "        for track in sp.album_tracks(album['id'])['items']:\n",
    "            track_ids.append(track['id'])\n",
    "            try:\n",
    "                track_features= getTrackFeatures(track['id'])\n",
    "                tracks.append(track_features)\n",
    "            except:\n",
    "                errors.append(track['id'])"
   ]
  },
  {
   "cell_type": "code",
   "execution_count": 113,
   "metadata": {},
   "outputs": [],
   "source": [
    "# create dataset\n",
    "tracks_2019 = pd.DataFrame(tracks, columns = ['name', 'track_id', 'album', 'artists', 'release_date', 'duration_ms', 'popularity', 'cover_url', 'danceability', 'acousticness', 'danceability', 'energy', 'instrumentalness', 'liveness', 'loudness', 'speechiness', 'tempo', 'time_signature', 'genres'])\n",
    "tracks_2019.to_csv(\"data/tracks_2019.csv\", sep = ',')"
   ]
  },
  {
   "cell_type": "code",
   "execution_count": null,
   "metadata": {},
   "outputs": [],
   "source": [
    "tracks_2019"
   ]
  },
  {
   "cell_type": "code",
   "execution_count": null,
   "metadata": {},
   "outputs": [],
   "source": [
    "errors"
   ]
  },
  {
   "cell_type": "markdown",
   "metadata": {},
   "source": [
    "# All spotify playlists"
   ]
  },
  {
   "cell_type": "code",
   "execution_count": 117,
   "metadata": {},
   "outputs": [
    {
     "data": {
      "text/plain": [
       "'https://github.com/spotify/web-api/issues/862'"
      ]
     },
     "execution_count": 117,
     "metadata": {},
     "output_type": "execute_result"
    }
   ],
   "source": [
    "'https://github.com/tclements/Spotify-Project/blob/master/Data/cs209_get_data.ipynb'\n",
    "'https://github.com/spotify/web-api/issues/862'"
   ]
  },
  {
   "cell_type": "markdown",
   "metadata": {},
   "source": [
    "# all 2019 songs --> only works for 2000 titles"
   ]
  },
  {
   "cell_type": "code",
   "execution_count": 115,
   "metadata": {},
   "outputs": [
    {
     "name": "stderr",
     "output_type": "stream",
     "text": [
      "  0%|          | 0/2000 [00:00<?, ?it/s]\n"
     ]
    },
    {
     "ename": "KeyError",
     "evalue": "'tracks'",
     "output_type": "error",
     "traceback": [
      "\u001b[0;31m---------------------------------------------------------------------------\u001b[0m",
      "\u001b[0;31mKeyError\u001b[0m                                  Traceback (most recent call last)",
      "\u001b[0;32m<ipython-input-115-d55a44245ab8>\u001b[0m in \u001b[0;36m<module>\u001b[0;34m\u001b[0m\n\u001b[1;32m      6\u001b[0m \u001b[0;32mfor\u001b[0m \u001b[0mi\u001b[0m \u001b[0;32min\u001b[0m \u001b[0mtqdm\u001b[0m\u001b[0;34m(\u001b[0m\u001b[0mrange\u001b[0m\u001b[0;34m(\u001b[0m\u001b[0;36m0\u001b[0m\u001b[0;34m,\u001b[0m\u001b[0;36m2000\u001b[0m\u001b[0;34m)\u001b[0m\u001b[0;34m)\u001b[0m\u001b[0;34m:\u001b[0m\u001b[0;34m\u001b[0m\u001b[0;34m\u001b[0m\u001b[0m\n\u001b[1;32m      7\u001b[0m     \u001b[0mresults\u001b[0m \u001b[0;34m=\u001b[0m \u001b[0msp\u001b[0m\u001b[0;34m.\u001b[0m\u001b[0msearch\u001b[0m\u001b[0;34m(\u001b[0m\u001b[0mq\u001b[0m\u001b[0;34m=\u001b[0m\u001b[0;34m'year:2019'\u001b[0m\u001b[0;34m,\u001b[0m \u001b[0mtype\u001b[0m\u001b[0;34m=\u001b[0m\u001b[0;34m'album'\u001b[0m\u001b[0;34m,\u001b[0m\u001b[0moffset\u001b[0m\u001b[0;34m=\u001b[0m\u001b[0mi\u001b[0m\u001b[0;34m)\u001b[0m\u001b[0;34m\u001b[0m\u001b[0;34m\u001b[0m\u001b[0m\n\u001b[0;32m----> 8\u001b[0;31m     \u001b[0mitems\u001b[0m \u001b[0;34m=\u001b[0m \u001b[0mresults\u001b[0m\u001b[0;34m[\u001b[0m\u001b[0;34m'tracks'\u001b[0m\u001b[0;34m]\u001b[0m\u001b[0;34m[\u001b[0m\u001b[0;34m'items'\u001b[0m\u001b[0;34m]\u001b[0m\u001b[0;34m\u001b[0m\u001b[0;34m\u001b[0m\u001b[0m\n\u001b[0m\u001b[1;32m      9\u001b[0m     \u001b[0;32mif\u001b[0m \u001b[0mlen\u001b[0m\u001b[0;34m(\u001b[0m\u001b[0mitems\u001b[0m\u001b[0;34m)\u001b[0m \u001b[0;34m>\u001b[0m \u001b[0;36m0\u001b[0m\u001b[0;34m:\u001b[0m\u001b[0;34m\u001b[0m\u001b[0;34m\u001b[0m\u001b[0m\n\u001b[1;32m     10\u001b[0m         \u001b[0mtrack\u001b[0m \u001b[0;34m=\u001b[0m \u001b[0mitems\u001b[0m\u001b[0;34m[\u001b[0m\u001b[0;36m0\u001b[0m\u001b[0;34m]\u001b[0m\u001b[0;34m\u001b[0m\u001b[0;34m\u001b[0m\u001b[0m\n",
      "\u001b[0;31mKeyError\u001b[0m: 'tracks'"
     ]
    }
   ],
   "source": [
    "# get ids & features for all 2019 songs\n",
    "ids = []\n",
    "errors = []\n",
    "tracks = []\n",
    "\n",
    "for i in tqdm(range(0,2000)):\n",
    "    results = sp.search(q='year:2019', type='album',offset=i)\n",
    "    items = results['tracks']['items']\n",
    "    if len(items) > 0:\n",
    "        track = items[0]\n",
    "        ids.append(track['id'])\n",
    "        try:\n",
    "            track_features= getTrackFeatures(track['id'])\n",
    "            tracks.append(track_features)\n",
    "        except:\n",
    "            errors.append(track['id'])\n",
    "    else:\n",
    "        break"
   ]
  }
 ],
 "metadata": {
  "kernelspec": {
   "display_name": "Python [conda env:nf] *",
   "language": "python",
   "name": "conda-env-nf-py"
  },
  "language_info": {
   "codemirror_mode": {
    "name": "ipython",
    "version": 3
   },
   "file_extension": ".py",
   "mimetype": "text/x-python",
   "name": "python",
   "nbconvert_exporter": "python",
   "pygments_lexer": "ipython3",
   "version": "3.6.10"
  },
  "toc": {
   "base_numbering": 1,
   "nav_menu": {},
   "number_sections": true,
   "sideBar": true,
   "skip_h1_title": false,
   "title_cell": "Table of Contents",
   "title_sidebar": "Contents",
   "toc_cell": false,
   "toc_position": {},
   "toc_section_display": true,
   "toc_window_display": false
  },
  "varInspector": {
   "cols": {
    "lenName": 16,
    "lenType": 16,
    "lenVar": 40
   },
   "kernels_config": {
    "python": {
     "delete_cmd_postfix": "",
     "delete_cmd_prefix": "del ",
     "library": "var_list.py",
     "varRefreshCmd": "print(var_dic_list())"
    },
    "r": {
     "delete_cmd_postfix": ") ",
     "delete_cmd_prefix": "rm(",
     "library": "var_list.r",
     "varRefreshCmd": "cat(var_dic_list()) "
    }
   },
   "types_to_exclude": [
    "module",
    "function",
    "builtin_function_or_method",
    "instance",
    "_Feature"
   ],
   "window_display": false
  }
 },
 "nbformat": 4,
 "nbformat_minor": 4
}
