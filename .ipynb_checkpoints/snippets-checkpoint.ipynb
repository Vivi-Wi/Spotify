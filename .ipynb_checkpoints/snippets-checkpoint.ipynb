{
 "cells": [
  {
   "cell_type": "code",
   "execution_count": 6,
   "metadata": {},
   "outputs": [],
   "source": [
    "import pandas as pd\n",
    "from matplotlib import pyplot as plt\n",
    "#import altair as alt\n",
    "#from altair import *\n",
    "s \n",
    "#import spacy\n",
    "#import en_core_web_sm\n",
    "#import nltk\n",
    "#from nltk.corpus import stopwords"
   ]
  },
  {
   "cell_type": "code",
   "execution_count": null,
   "metadata": {},
   "outputs": [],
   "source": []
  },
  {
   "cell_type": "code",
   "execution_count": 7,
   "metadata": {},
   "outputs": [],
   "source": [
    "def full_cleaning(Category,frame,col):\n",
    "    print('cleaning....')\n",
    "    newframe=frame.copy()  \n",
    "    newframe[col] = newframe[col].str.replace('\\d+', '').str.replace('?', '').str.replace('\\W', ' ').str.lower()\n",
    "    newframe = newframe[newframe['brandcategory']==Category].astype(str)\n",
    "    text = ' '.join(newframe[col][:])\n",
    "    cleantext = remove_stopwords(text)\n",
    "    words = set(nltk.corpus.words.words())\n",
    "    cleantext=lemmatize(cleantext) \n",
    "    cleantext = clean_sent(cleantext)\n",
    "    print('done!')\n",
    "    return cleantext\n",
    "\n",
    "from ipywidgets import widgets, interact, interactive, fixed\n",
    "from wordcloud import WordCloud, STOPWORDS, ImageColorGenerator\n",
    "from string import digit\n",
    "###function for cloud that Im going to call with interact  ######  \n",
    "def makingclouds(Category,frame,col,maximum,atitle):\n",
    "    cloudtext=full_cleaning(Category,frame,col)\n",
    "    print('preparing cloud')\n",
    "    print('Cloud for ',Category, 'n.n')\n",
    "    wordcloud = WordCloud(max_font_size=40, max_words=maximum, background_color=\"white\",collocations=False).generate(cloudtext)\n",
    "    wordcloud.generate_from_frequencies\n",
    "    plt.style.use(\"dark_background\")\n",
    "    plt.figure()\n",
    "    plt.title(atitle, fontsize=40)#,fontweight=\"bold\")\n",
    "    plt.imshow(wordcloud, interpolation=\"bilinear\")\n",
    "    plt.axis(\"off\")\n",
    "    interact(makingclouds, Category=list1, df1=fixed(df1), col=fixed('hashtags'),maximum=[20,50,100,150],\n",
    "         atitle=fixed('Most used words in hashtags'), frame=fixed(df1[['brandcategory','hashtags']]))"
   ]
  },
  {
   "cell_type": "code",
   "execution_count": null,
   "metadata": {},
   "outputs": [],
   "source": []
  },
  {
   "cell_type": "markdown",
   "metadata": {},
   "source": [
    "### Animated wordcloud"
   ]
  },
  {
   "cell_type": "code",
   "execution_count": null,
   "metadata": {},
   "outputs": [],
   "source": [
    "artists = df['artists'].str.strip(\"[]\")\n",
    "artists = artists.str.split(\"',\", expand=True)\n",
    "artists= df[['year']].join(artists)\n",
    "artists_df = pd.DataFrame(columns=['year', 'artist'])\n",
    "for c in artists.columns[1:]:\n",
    "    try:\n",
    "        artists[c]=artists[c].str.replace(\"'\",\"\")\n",
    "    except:\n",
    "        pass\n",
    "    temp = artists[['year', c]]\n",
    "    temp.columns=['year', 'artist']\n",
    "    artists_df= artists_df.append(temp)\n",
    "artists_df.dropna(inplace=True)    \n",
    "artists_df.reset_index(drop=True, inplace=True)        \n"
   ]
  },
  {
   "cell_type": "code",
   "execution_count": null,
   "metadata": {},
   "outputs": [],
   "source": [
    "#artists_df['year', 'artist'].value_counts()\n",
    "pd.crosstab(index=artists_df['artist'], columns=artists_df['year'])"
   ]
  },
  {
   "cell_type": "markdown",
   "metadata": {},
   "source": [
    "# Interactive histogram"
   ]
  },
  {
   "cell_type": "code",
   "execution_count": 1,
   "metadata": {},
   "outputs": [],
   "source": [
    "# Interactive histogram\n",
    "class BokehHistogram():\n",
    "\n",
    "    def __init__(self, colors=[\"SteelBlue\", \"Tan\"], height=600, width=600):\n",
    "        self.colors = colors\n",
    "        self.height = height\n",
    "        self.width = width\n",
    "\n",
    "    def hist_hover(self, dataframe, column, bins=30, log_scale=False, show_plot=True):\n",
    "        hist, edges = np.histogram(dataframe[column], bins = bins)\n",
    "        hist_df = pd.DataFrame({column: hist,\n",
    "                                 \"left\": edges[:-1],\n",
    "                                 \"right\": edges[1:]})\n",
    "        hist_df[\"interval\"] = [\"%d to %d\" % (left, right) for left, \n",
    "                               right in zip(hist_df[\"left\"], hist_df[\"right\"])]\n",
    "\n",
    "        if log_scale == True:\n",
    "            hist_df[\"log\"] = np.log(hist_df[column])\n",
    "            src = ColumnDataSource(hist_df)\n",
    "            plot = figure(plot_height = self.height, plot_width = self.width,\n",
    "                  title = \"Histogram of {}\".format(column.capitalize()),\n",
    "                  x_axis_label = column.capitalize(),\n",
    "                  y_axis_label = \"Log Count\")    \n",
    "            plot.quad(bottom = 0, top = \"log\",left = \"left\", \n",
    "                right = \"right\", source = src, fill_color = self.colors[0], \n",
    "                line_color = \"black\", fill_alpha = 0.7,\n",
    "                hover_fill_alpha = 1.0, hover_fill_color = self.colors[1])\n",
    "        else:\n",
    "            src = ColumnDataSource(hist_df)\n",
    "            plot = figure(plot_height = self.height, plot_width = self.width,\n",
    "                  title = \"Histogram of {}\".format(column.capitalize()),\n",
    "                  x_axis_label = column.capitalize(),\n",
    "                  y_axis_label = \"Count\")    \n",
    "            plot.quad(bottom = 0, top = column,left = \"left\", \n",
    "                right = \"right\", source = src, fill_color = self.colors[0], \n",
    "                line_color = \"black\", fill_alpha = 0.7,\n",
    "                hover_fill_alpha = 1.0, hover_fill_color = self.colors[1])\n",
    "\n",
    "        hover = HoverTool(tooltips = [('Interval', '@interval'),\n",
    "                                  ('Count', str(\"@\" + column))])\n",
    "        plot.add_tools(hover)\n",
    "\n",
    "        if show_plot == True:\n",
    "            show(plot)\n",
    "        else:\n",
    "            return plot\n",
    "\n",
    "    def histotabs(self, dataframe, features, log_scale=False, show_plot=False):\n",
    "        hists = []\n",
    "        for f in features:\n",
    "            h = self.hist_hover(dataframe, f, log_scale=log_scale, show_plot=show_plot)\n",
    "            p = Panel(child=h, title=f.capitalize())\n",
    "            hists.append(p)\n",
    "        t = Tabs(tabs=hists)\n",
    "        show(t)\n",
    "\n",
    "    def filtered_histotabs(self, dataframe, feature, filter_feature, log_scale=False, show_plot=False):\n",
    "        hists = []\n",
    "        for col in dataframe[filter_feature].unique():\n",
    "            sub_df = dataframe[dataframe[filter_feature] == col]\n",
    "            histo = self.hist_hover(sub_df, feature, log_scale=log_scale, show_plot=show_plot)\n",
    "            p = Panel(child = histo, title=col)\n",
    "            hists.append(p)\n",
    "        t = Tabs(tabs=hists)\n",
    "        show(t)"
   ]
  },
  {
   "cell_type": "markdown",
   "metadata": {},
   "source": [
    "# Mauri"
   ]
  },
  {
   "cell_type": "code",
   "execution_count": 2,
   "metadata": {},
   "outputs": [
    {
     "data": {
      "text/plain": [
       "'\\nimport ipywidgets as widgets\\nfrom ipywidgets import interact, interactive, fixed, interact_manual\\nimport math\\nfrom IPython.display import Image\\nimport plotly\\nimport chart_studio.plotly as py\\nfrom plotly.offline import download_plotlyjs, init_notebook_mode, plot, iplot\\nimport cufflinks as cf\\nimport plotly.graph_objects as go\\nfrom plotly.subplots import make_subplots\\ninit_notebook_mode(connected=True)\\ncf.go_offline()\\n%matplotlib inline\\n#pd.options.plotting.backend = \"plotly\"\\n\\n\\n\\n\\n@interact_manual()\\ndef scatter_plot(kind=[\"bar\", \"box\", \"bubble\", \"heatmap\", \"histogram\", \"scatter\"],\\n                 x=list(data.select_dtypes(\\'number\\').columns),\\n                 y=list(data.select_dtypes(\\'number\\').columns)[1:],\\n#                 text=data.index,\\n                 theme=list(cf.themes.THEMES.keys()),\\n                 colorscale=list(cf.colors._scales_names.keys())):\\n    data.iplot(\\n        kind=kind,\\n        x=x,\\n        y=y,\\n        mode=\\'markers\\',\\n        xTitle=str(x),\\n        yTitle=str(y),\\n#        text=text,\\n        title=f\\'{str(y)} vs {str(x)}\\',\\n        theme=theme,\\n        colorscale=colorscale)\\n'"
      ]
     },
     "execution_count": 2,
     "metadata": {},
     "output_type": "execute_result"
    }
   ],
   "source": [
    "# interactive graph\n",
    "\n",
    "#https://ipywidgets.readthedocs.io/en/latest/examples/Using%20Interact.html\n",
    "\n",
    "'''\n",
    "import ipywidgets as widgets\n",
    "from ipywidgets import interact, interactive, fixed, interact_manual\n",
    "import math\n",
    "from IPython.display import Image\n",
    "import plotly\n",
    "import chart_studio.plotly as py\n",
    "from plotly.offline import download_plotlyjs, init_notebook_mode, plot, iplot\n",
    "import cufflinks as cf\n",
    "import plotly.graph_objects as go\n",
    "from plotly.subplots import make_subplots\n",
    "init_notebook_mode(connected=True)\n",
    "cf.go_offline()\n",
    "%matplotlib inline\n",
    "#pd.options.plotting.backend = \"plotly\"\n",
    "\n",
    "\n",
    "\n",
    "\n",
    "@interact_manual()\n",
    "def scatter_plot(kind=[\"bar\", \"box\", \"bubble\", \"heatmap\", \"histogram\", \"scatter\"],\n",
    "                 x=list(data.select_dtypes('number').columns),\n",
    "                 y=list(data.select_dtypes('number').columns)[1:],\n",
    "#                 text=data.index,\n",
    "                 theme=list(cf.themes.THEMES.keys()),\n",
    "                 colorscale=list(cf.colors._scales_names.keys())):\n",
    "    data.iplot(\n",
    "        kind=kind,\n",
    "        x=x,\n",
    "        y=y,\n",
    "        mode='markers',\n",
    "        xTitle=str(x),\n",
    "        yTitle=str(y),\n",
    "#        text=text,\n",
    "        title=f'{str(y)} vs {str(x)}',\n",
    "        theme=theme,\n",
    "        colorscale=colorscale)\n",
    "'''"
   ]
  },
  {
   "cell_type": "code",
   "execution_count": null,
   "metadata": {},
   "outputs": [],
   "source": []
  }
 ],
 "metadata": {
  "kernelspec": {
   "display_name": "Python [conda env:nf] *",
   "language": "python",
   "name": "conda-env-nf-py"
  },
  "language_info": {
   "codemirror_mode": {
    "name": "ipython",
    "version": 3
   },
   "file_extension": ".py",
   "mimetype": "text/x-python",
   "name": "python",
   "nbconvert_exporter": "python",
   "pygments_lexer": "ipython3",
   "version": "3.6.10"
  },
  "toc": {
   "base_numbering": 1,
   "nav_menu": {},
   "number_sections": true,
   "sideBar": true,
   "skip_h1_title": false,
   "title_cell": "Table of Contents",
   "title_sidebar": "Contents",
   "toc_cell": false,
   "toc_position": {},
   "toc_section_display": true,
   "toc_window_display": false
  },
  "varInspector": {
   "cols": {
    "lenName": 16,
    "lenType": 16,
    "lenVar": 40
   },
   "kernels_config": {
    "python": {
     "delete_cmd_postfix": "",
     "delete_cmd_prefix": "del ",
     "library": "var_list.py",
     "varRefreshCmd": "print(var_dic_list())"
    },
    "r": {
     "delete_cmd_postfix": ") ",
     "delete_cmd_prefix": "rm(",
     "library": "var_list.r",
     "varRefreshCmd": "cat(var_dic_list()) "
    }
   },
   "types_to_exclude": [
    "module",
    "function",
    "builtin_function_or_method",
    "instance",
    "_Feature"
   ],
   "window_display": false
  }
 },
 "nbformat": 4,
 "nbformat_minor": 4
}
