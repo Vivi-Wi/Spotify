{
 "cells": [
  {
   "cell_type": "code",
   "execution_count": 1,
   "metadata": {},
   "outputs": [],
   "source": [
    "import pandas as pd\n",
    "import numpy as np\n",
    "from bokeh.plotting import figure\n",
    "from bokeh.io import output_notebook, show, output_file\n",
    "from bokeh.models import ColumnDataSource, HoverTool, Panel\n",
    "from bokeh.models.widgets import Tabs"
   ]
  },
  {
   "cell_type": "markdown",
   "metadata": {},
   "source": [
    "# Interactive Histogram"
   ]
  },
  {
   "cell_type": "code",
   "execution_count": 2,
   "metadata": {},
   "outputs": [],
   "source": [
    "class BokehHistogram():\n",
    "\n",
    "    def __init__(self, colors=[\"SteelBlue\", \"Tan\"], height=600, width=600):\n",
    "        self.colors = colors\n",
    "        self.height = height\n",
    "        self.width = width\n",
    "\n",
    "    def hist_hover(self, dataframe, column, bins=30, log_scale=False, show_plot=True):\n",
    "        hist, edges = np.histogram(dataframe[column], bins = bins)\n",
    "        hist_df = pd.DataFrame({column: hist,\n",
    "                                 \"left\": edges[:-1],\n",
    "                                 \"right\": edges[1:]})\n",
    "        hist_df[\"interval\"] = [\"%d to %d\" % (left, right) for left, \n",
    "                               right in zip(hist_df[\"left\"], hist_df[\"right\"])]\n",
    "\n",
    "        if log_scale == True:\n",
    "            hist_df[\"log\"] = np.log(hist_df[column])\n",
    "            src = ColumnDataSource(hist_df)\n",
    "            plot = figure(plot_height = self.height, plot_width = self.width,\n",
    "                  title = \"Histogram of {}\".format(column.capitalize()),\n",
    "                  x_axis_label = column.capitalize(),\n",
    "                  y_axis_label = \"Log Count\")    \n",
    "            plot.quad(bottom = 0, top = \"log\",left = \"left\", \n",
    "                right = \"right\", source = src, fill_color = self.colors[0], \n",
    "                line_color = \"black\", fill_alpha = 0.7,\n",
    "                hover_fill_alpha = 1.0, hover_fill_color = self.colors[1])\n",
    "        else:\n",
    "            src = ColumnDataSource(hist_df)\n",
    "            plot = figure(plot_height = self.height, plot_width = self.width,\n",
    "                  title = \"Histogram of {}\".format(column.capitalize()),\n",
    "                  x_axis_label = column.capitalize(),\n",
    "                  y_axis_label = \"Count\")    \n",
    "            plot.quad(bottom = 0, top = column,left = \"left\", \n",
    "                right = \"right\", source = src, fill_color = self.colors[0], \n",
    "                line_color = \"black\", fill_alpha = 0.7,\n",
    "                hover_fill_alpha = 1.0, hover_fill_color = self.colors[1])\n",
    "\n",
    "        hover = HoverTool(tooltips = [('Interval', '@interval'),\n",
    "                                  ('Count', str(\"@\" + column))])\n",
    "        plot.add_tools(hover)\n",
    "\n",
    "        if show_plot == True:\n",
    "            show(plot)\n",
    "        else:\n",
    "            return plot\n",
    "\n",
    "    def histotabs(self, dataframe, features, log_scale=False, show_plot=False):\n",
    "        hists = []\n",
    "        for f in features:\n",
    "            h = self.hist_hover(dataframe, f, log_scale=log_scale, show_plot=show_plot)\n",
    "            p = Panel(child=h, title=f.capitalize())\n",
    "            hists.append(p)\n",
    "        t = Tabs(tabs=hists)\n",
    "        show(t)\n",
    "\n",
    "    def filtered_histotabs(self, dataframe, feature, filter_feature, log_scale=False, show_plot=False):\n",
    "        hists = []\n",
    "        for col in dataframe[filter_feature].unique():\n",
    "            sub_df = dataframe[dataframe[filter_feature] == col]\n",
    "            histo = self.hist_hover(sub_df, feature, log_scale=log_scale, show_plot=show_plot)\n",
    "            p = Panel(child = histo, title=col)\n",
    "            hists.append(p)\n",
    "        t = Tabs(tabs=hists)\n",
    "        show(t)"
   ]
  },
  {
   "cell_type": "code",
   "execution_count": null,
   "metadata": {},
   "outputs": [],
   "source": []
  }
 ],
 "metadata": {
  "kernelspec": {
   "display_name": "Python [conda env:nf] *",
   "language": "python",
   "name": "conda-env-nf-py"
  },
  "language_info": {
   "codemirror_mode": {
    "name": "ipython",
    "version": 3
   },
   "file_extension": ".py",
   "mimetype": "text/x-python",
   "name": "python",
   "nbconvert_exporter": "python",
   "pygments_lexer": "ipython3",
   "version": "3.6.10"
  },
  "toc": {
   "base_numbering": 1,
   "nav_menu": {},
   "number_sections": true,
   "sideBar": true,
   "skip_h1_title": false,
   "title_cell": "Table of Contents",
   "title_sidebar": "Contents",
   "toc_cell": false,
   "toc_position": {},
   "toc_section_display": true,
   "toc_window_display": false
  },
  "varInspector": {
   "cols": {
    "lenName": 16,
    "lenType": 16,
    "lenVar": 40
   },
   "kernels_config": {
    "python": {
     "delete_cmd_postfix": "",
     "delete_cmd_prefix": "del ",
     "library": "var_list.py",
     "varRefreshCmd": "print(var_dic_list())"
    },
    "r": {
     "delete_cmd_postfix": ") ",
     "delete_cmd_prefix": "rm(",
     "library": "var_list.r",
     "varRefreshCmd": "cat(var_dic_list()) "
    }
   },
   "types_to_exclude": [
    "module",
    "function",
    "builtin_function_or_method",
    "instance",
    "_Feature"
   ],
   "window_display": false
  }
 },
 "nbformat": 4,
 "nbformat_minor": 4
}
