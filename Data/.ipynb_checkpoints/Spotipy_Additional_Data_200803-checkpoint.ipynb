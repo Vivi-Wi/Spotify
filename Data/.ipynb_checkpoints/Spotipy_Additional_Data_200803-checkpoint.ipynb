{
 "cells": [
  {
   "cell_type": "markdown",
   "metadata": {},
   "source": [
    "# Set Up"
   ]
  },
  {
   "cell_type": "code",
   "execution_count": null,
   "metadata": {},
   "outputs": [],
   "source": [
    "pip install spotipy --upgrade"
   ]
  },
  {
   "cell_type": "code",
   "execution_count": 1,
   "metadata": {},
   "outputs": [],
   "source": [
    "import pandas as pd\n",
    "import time\n",
    "from tqdm import tqdm\n",
    "\n",
    "import requests\n",
    "\n",
    "import spotipy\n",
    "from spotipy.oauth2 import SpotifyClientCredentials"
   ]
  },
  {
   "cell_type": "markdown",
   "metadata": {},
   "source": [
    "# Auxiliary Functions"
   ]
  },
  {
   "cell_type": "code",
   "execution_count": 2,
   "metadata": {},
   "outputs": [],
   "source": [
    "cid = #'Your Client ID'\n",
    "secret =  #'Your Secret ID'\n",
    "\n",
    "client_credentials_manager = SpotifyClientCredentials(client_id=cid,\n",
    "                                                      client_secret=secret)\n",
    "sp = spotipy.Spotify(client_credentials_manager=client_credentials_manager)"
   ]
  },
  {
   "cell_type": "code",
   "execution_count": 3,
   "metadata": {},
   "outputs": [],
   "source": [
    "def getTrackIDs(user, playlist_id):\n",
    "    '''\n",
    "    Retrives Track IDs from a given playlist. The iputs are the username (found in the URL) of the person \n",
    "    who created the playlist, and then the playlist URI which you can find by \n",
    "    hitting the setting button on the playlist where you’d find the share link.\n",
    "    Returns a list of track ids.\n",
    "    '''\n",
    "    ids = []\n",
    "    playlist = sp.user_playlist(user, playlist_id)\n",
    "    for item in playlist['tracks']['items']:\n",
    "        track = item['track']\n",
    "        ids.append(track['id'])\n",
    "    return ids"
   ]
  },
  {
   "cell_type": "code",
   "execution_count": 4,
   "metadata": {},
   "outputs": [],
   "source": [
    "def getTrackFeatures(id):\n",
    "    '''\n",
    "    gets track info via track ids\n",
    "    https://medium.com/better-programming/how-to-extract-any-artists-data-using-spotify-s-api-python-and-spotipy-4c079401bc37\n",
    "    '''\n",
    "    meta = sp.track(id)\n",
    "    features = sp.audio_features(id)\n",
    "    \n",
    "    # meta\n",
    "    name = meta['name']\n",
    "    track_id = meta['id']\n",
    "    album = meta['album']['name']\n",
    "    artists = meta['album']['artists'][0]['name']\n",
    "    release_date = meta['album']['release_date']\n",
    "    duration_ms = meta['duration_ms']\n",
    "    popularity = meta['popularity']\n",
    "    cover_url = meta['album']['images'][0]['url']\n",
    "    \n",
    "    # features\n",
    "    acousticness = features[0]['acousticness']\n",
    "    danceability = features[0]['danceability']\n",
    "    energy = features[0]['energy']\n",
    "    instrumentalness = features[0]['instrumentalness']\n",
    "    liveness = features[0]['liveness']\n",
    "    loudness = features[0]['loudness']\n",
    "    speechiness = features[0]['speechiness']\n",
    "    tempo = features[0]['tempo']\n",
    "    time_signature = features[0]['time_signature']\n",
    "    \n",
    "    # artists' genres\n",
    "    artist_id = meta['album']['artists'][0]['id']\n",
    "    genres = sp.artist(artist_id)['genres']\n",
    "        \n",
    "    track = [name, track_id, album, artists, release_date, duration_ms, popularity, cover_url, danceability, acousticness, danceability, energy, instrumentalness, liveness, loudness, speechiness, tempo, time_signature, genres]\n",
    "    return track"
   ]
  },
  {
   "cell_type": "code",
   "execution_count": 5,
   "metadata": {},
   "outputs": [],
   "source": [
    "def getInfos(track):\n",
    "    '''\n",
    "    gets meta track info via track from search results\n",
    "    '''\n",
    "    meta = track\n",
    "\n",
    "    # meta\n",
    "    name = meta['name']\n",
    "    track_id = meta['id']\n",
    "    album = meta['album']['name']\n",
    "    artists = meta['album']['artists'][0]['name']\n",
    "    artists_id = meta['album']['artists'][0]['id']\n",
    "    release_date = meta['album']['release_date']\n",
    "    duration_ms = meta['duration_ms']\n",
    "    popularity = meta['popularity']\n",
    "    cover_url = meta['album']['images'][0]['url']\n",
    "    explicit = meta['explicit']\n",
    "    preview_url = meta['preview_url']\n",
    "    album_track_no = meta['track_number']\n",
    "    total_album_tracks = meta['album']['total_tracks']\n",
    "    available_markets = meta['album']['available_markets']\n",
    "\n",
    "    meta_info = [\n",
    "        name, track_id, album, artists, artists_id, release_date, duration_ms,\n",
    "        popularity, cover_url, explicit, preview_url, album_track_no,\n",
    "        total_album_tracks, available_markets]\n",
    "    \n",
    "    return meta_info"
   ]
  },
  {
   "cell_type": "code",
   "execution_count": 28,
   "metadata": {},
   "outputs": [],
   "source": [
    "def getFeatures(track_ids):\n",
    "    '''\n",
    "    gets song features via track ids and artist ids. Takes in a lists of max 100\n",
    "    '''\n",
    "\n",
    "    # features\n",
    "    features = sp.audio_features(track_ids)\n",
    "\n",
    "    feature_info = []\n",
    "    for i in range(len(features)):\n",
    "        try:\n",
    "            acousticness = features[i]['acousticness']\n",
    "            danceability = features[i]['danceability']\n",
    "            energy = features[i]['energy']\n",
    "            instrumentalness = features[i]['instrumentalness']\n",
    "            liveness = features[i]['liveness']\n",
    "            loudness = features[i]['loudness']\n",
    "            speechiness = features[i]['speechiness']\n",
    "            tempo = features[i]['tempo']\n",
    "            time_signature = features[i]['time_signature']\n",
    "\n",
    "            temp = [\n",
    "                acousticness, danceability, energy, instrumentalness, liveness,\n",
    "                loudness, speechiness, tempo, time_signature]\n",
    "        except:\n",
    "            temp=[]\n",
    "\n",
    "        feature_info.append(temp)\n",
    "    return feature_info"
   ]
  },
  {
   "cell_type": "code",
   "execution_count": 133,
   "metadata": {},
   "outputs": [],
   "source": [
    "def getGenres(artist_ids, token):\n",
    "    '''\n",
    "    gets song features via track ids and artist ids. Takes a lists of max 50.\n",
    "    '''    \n",
    "    ids=','.join(artist_ids)\n",
    "    \n",
    "    \n",
    "    headers = {'Content-Type': 'application/json',\n",
    "               'Authorization': 'Bearer {0}'.format(token)}\n",
    "    \n",
    "    api_url='https://api.spotify.com/v1/artists?ids='+ids\n",
    "    response = requests.get(api_url, headers = headers)\n",
    "    if response.status_code == 401:\n",
    "        print('Token expired!!')\n",
    "    elif response.status_code == 200:\n",
    "        result = json.loads(response.content.decode('utf-8'))   \n",
    "        artists = result['artists']\n",
    "\n",
    "        genres = []\n",
    "        for i in range(0,len(artists)):\n",
    "            #try:\n",
    "            artist=list(artist_ids)[i]\n",
    "            genre=artists[i]['genres']\n",
    "            temp=[artist, genre]\n",
    "            #except:\n",
    "                #temp=[]\n",
    "            genres.append(temp)\n",
    "        return genres"
   ]
  },
  {
   "cell_type": "code",
   "execution_count": 88,
   "metadata": {},
   "outputs": [],
   "source": [
    "def spotify_search(search_term, token):\n",
    "    \n",
    "    headers = {'Content-Type': 'application/json',\n",
    "               'Authorization': 'Bearer {0}'.format(token)}\n",
    "\n",
    "    ids = []\n",
    "    errors = []\n",
    "    tracks = []\n",
    "\n",
    "    for i in range(0,2000,50):\n",
    "        api_url = 'https://api.spotify.com/v1/search?q=track:'+search_term+'+year:2019&type=track&offset='+str(i)+'&limit=50'\n",
    "        response = requests.get(api_url, headers = headers)\n",
    "        if response.status_code == 401:\n",
    "            print('Token expired!!')\n",
    "            break\n",
    "        elif response.status_code == 200:\n",
    "            result = json.loads(response.content.decode('utf-8'))\n",
    "            items = result['tracks']['items']\n",
    "            for j in range(len(items)):\n",
    "                track = items[j]\n",
    "                ids.append(track['id'])\n",
    "                try:\n",
    "                    track_features = getInfos(track)\n",
    "                    tracks.append(track_features)\n",
    "                except:\n",
    "                    errors.append(track['id'])\n",
    "                    \n",
    "                    \n",
    "    # create dataset\n",
    "    tracks = pd.DataFrame(tracks, columns = [\n",
    "        \"name\", \"track_id\", \"album\", \"artists\", \"artists_id\", \"release_date\", \"duration_ms\",\n",
    "        \"popularity\", \"cover_url\", \"explicit\", \"preview_url\", \"album_track_no\",\n",
    "        \"total_album_tracks\", \"available_markets\"])\n",
    "    \n",
    "    #print('Total search results for '+search_term+': '+ str(result['tracks']['total']))\n",
    "    \n",
    "    return tracks"
   ]
  },
  {
   "cell_type": "code",
   "execution_count": 18,
   "metadata": {},
   "outputs": [],
   "source": [
    "def spotify_search_results(search_term, token):\n",
    "    headers = {'Content-Type': 'application/json',\n",
    "               'Authorization': 'Bearer {0}'.format(token)}\n",
    "    api_url = 'https://api.spotify.com/v1/search?q=track:'+search_term+'+year:2019&type=track&offset=0&limit=1'\n",
    "    response = requests.get(api_url, headers = headers)\n",
    "    if response.status_code == 401:\n",
    "        print('Token expired!!')\n",
    "    elif response.status_code == 200:\n",
    "        result = json.loads(response.content.decode('utf-8'))\n",
    "        return result['tracks']['total']"
   ]
  },
  {
   "cell_type": "markdown",
   "metadata": {},
   "source": [
    "# Retrieving songs through API (alphabetically)"
   ]
  },
  {
   "cell_type": "code",
   "execution_count": 121,
   "metadata": {},
   "outputs": [],
   "source": [
    "api_token = \"BQC0xGxB05NSUJU1nz3JS5uFaKGMHf9fno15MuiypmcxvzTeu5IM9Kok2f4fpm45jNVnkmNfccWX3j0ToII_8867JeGZBXqQpdOS2BgxWqCnGYnZ91U4iTm__Ru3oNkE29RhHrSqqe0havM\""
   ]
  },
  {
   "cell_type": "markdown",
   "metadata": {},
   "source": [
    "## Searching for character combinations in Spotify library"
   ]
  },
  {
   "cell_type": "code",
   "execution_count": 122,
   "metadata": {
    "collapsed": true
   },
   "outputs": [
    {
     "name": "stderr",
     "output_type": "stream",
     "text": [
      "\r",
      "  0%|          | 0/2 [00:00<?, ?it/s]"
     ]
    },
    {
     "name": "stdout",
     "output_type": "stream",
     "text": [
      "8a\n",
      "8b\n",
      "8c\n",
      "8d\n",
      "8e\n",
      "8f\n",
      "8g\n",
      "8h\n",
      "8i\n",
      "8j\n",
      "8k\n",
      "8l\n",
      "8m\n",
      "8n\n",
      "8o\n",
      "8p\n",
      "8q\n",
      "8r\n",
      "8s\n",
      "8t\n",
      "8u\n",
      "8v\n",
      "8w\n",
      "8x\n",
      "8y\n",
      "8z\n",
      "80\n",
      "81\n",
      "82\n",
      "83\n",
      "84\n",
      "85\n",
      "86\n",
      "87\n",
      "88\n"
     ]
    },
    {
     "name": "stderr",
     "output_type": "stream",
     "text": [
      "\r",
      " 50%|█████     | 1/2 [04:45<04:45, 285.52s/it]"
     ]
    },
    {
     "name": "stdout",
     "output_type": "stream",
     "text": [
      "89\n",
      "9a\n",
      "9b\n",
      "9c\n",
      "9d\n",
      "9e\n",
      "9f\n",
      "9g\n",
      "9h\n",
      "9i\n",
      "9j\n",
      "9k\n",
      "9l\n",
      "9m\n",
      "9n\n",
      "9o\n",
      "9p\n",
      "9q\n",
      "9r\n",
      "9s\n",
      "9t\n",
      "9u\n",
      "9v\n",
      "9w\n",
      "9x\n",
      "9y\n",
      "9z\n",
      "90\n",
      "91\n",
      "92\n",
      "93\n",
      "94\n",
      "95\n",
      "96\n",
      "97\n",
      "98\n"
     ]
    },
    {
     "name": "stderr",
     "output_type": "stream",
     "text": [
      "100%|██████████| 2/2 [08:49<00:00, 264.57s/it]"
     ]
    },
    {
     "name": "stdout",
     "output_type": "stream",
     "text": [
      "99\n"
     ]
    },
    {
     "name": "stderr",
     "output_type": "stream",
     "text": [
      "\n"
     ]
    }
   ],
   "source": [
    "characters=list(map(chr, range(97, 123)))+list(range(10))\n",
    "\n",
    "search_dict={}\n",
    "\n",
    "for c1 in tqdm(characters[34:]):\n",
    "    for c2 in characters:\n",
    "        term=str(c1)+str(c2)\n",
    "        search_dict[term]= spotify_search(term, api_token)\n",
    "        print(term)\n",
    "\n",
    "\n",
    "'''\n",
    "\n",
    "# Longer version:\n",
    "\n",
    "for c1 in tqdm(characters[34:]):\n",
    "    term=str(c1)\n",
    "    if spotify_search_results(term, api_token)<2000:\n",
    "        search_dict[term]= spotify_search(term, api_token)\n",
    "        print(term)\n",
    "    else:\n",
    "        for c2 in characters:\n",
    "            term=str(c1)+str(c2)\n",
    "            if spotify_search_results(term, api_token)<2000:\n",
    "                search_dict[term]= spotify_search(term, api_token)\n",
    "                print(term)\n",
    "            else:\n",
    "                for c3 in characters:\n",
    "                    term=str(c1)+str(c2)+str(c3)\n",
    "                    if spotify_search_results(term, api_token)<2000:\n",
    "                        search_dict[term]= spotify_search(term, api_token)\n",
    "                        print(term)\n",
    "                    else:\n",
    "                        for c4 in characters:\n",
    "                            term=str(c1)+str(c2)+str(c3)+str(c4)\n",
    "                            search_dict[term]= spotify_search(term, api_token)\n",
    "                            print(term)\n",
    "    '''\n"
   ]
  },
  {
   "cell_type": "code",
   "execution_count": 123,
   "metadata": {},
   "outputs": [],
   "source": [
    "df=pd.concat(search_dict, axis=0, ignore_index=True)\n",
    "df.reset_index(drop=True, inplace=True)"
   ]
  },
  {
   "cell_type": "markdown",
   "metadata": {},
   "source": [
    "##  Audio Features"
   ]
  },
  {
   "cell_type": "code",
   "execution_count": 127,
   "metadata": {},
   "outputs": [
    {
     "name": "stderr",
     "output_type": "stream",
     "text": [
      "100%|██████████| 377/377 [01:43<00:00,  3.64it/s]\n"
     ]
    }
   ],
   "source": [
    "features = []\n",
    "for i in tqdm(range(0,df.shape[0],100)):\n",
    "    temp=getFeatures(df['track_id'][i:i+100])\n",
    "    features+=temp\n",
    "features=pd.DataFrame(features, columns = [\"acousticness\", \"danceability\", \"energy\", \"instrumentalness\", \"liveness\", \"loudness\", \"speechiness\", \"tempo\", \"time_signature\"])\n",
    "df= df.join(features)"
   ]
  },
  {
   "cell_type": "code",
   "execution_count": 129,
   "metadata": {},
   "outputs": [],
   "source": [
    "df.to_csv(\"tracks_2019_abc.csv\", sep = ',')"
   ]
  },
  {
   "cell_type": "markdown",
   "metadata": {},
   "source": [
    "## Genres"
   ]
  },
  {
   "cell_type": "code",
   "execution_count": 131,
   "metadata": {},
   "outputs": [
    {
     "name": "stderr",
     "output_type": "stream",
     "text": [
      "/Users/vivika/opt/anaconda3/envs/nf/lib/python3.6/site-packages/ipykernel_launcher.py:8: FutureWarning: Sorting because non-concatenation axis is not aligned. A future version\n",
      "of pandas will change to not sort by default.\n",
      "\n",
      "To accept the future behavior, pass 'sort=False'.\n",
      "\n",
      "To retain the current behavior and silence the warning, pass 'sort=True'.\n",
      "\n",
      "  \n"
     ]
    },
    {
     "name": "stdout",
     "output_type": "stream",
     "text": [
      "<class 'pandas.core.frame.DataFrame'>\n",
      "RangeIndex: 1047790 entries, 0 to 1047789\n",
      "Data columns (total 23 columns):\n",
      "acousticness          1047547 non-null float64\n",
      "album                 1047787 non-null object\n",
      "album_track_no        1047790 non-null int64\n",
      "artists               1047783 non-null object\n",
      "artists_id            1047790 non-null object\n",
      "available_markets     1047790 non-null object\n",
      "cover_url             1047790 non-null object\n",
      "danceability          1047547 non-null float64\n",
      "duration_ms           1047790 non-null int64\n",
      "energy                1047547 non-null float64\n",
      "explicit              1047790 non-null bool\n",
      "instrumentalness      1047547 non-null float64\n",
      "liveness              1047547 non-null float64\n",
      "loudness              1047547 non-null float64\n",
      "name                  1047790 non-null object\n",
      "popularity            1047790 non-null int64\n",
      "preview_url           999789 non-null object\n",
      "release_date          1047790 non-null object\n",
      "speechiness           1047547 non-null float64\n",
      "tempo                 1047547 non-null float64\n",
      "time_signature        1047547 non-null float64\n",
      "total_album_tracks    1047790 non-null int64\n",
      "track_id              1047790 non-null object\n",
      "dtypes: bool(1), float64(9), int64(4), object(9)\n",
      "memory usage: 176.9+ MB\n"
     ]
    }
   ],
   "source": [
    "df1=pd.read_csv('tracks_2019_aa-f8.csv')\n",
    "df2=pd.read_csv('tracks_2019_ga-lo.csv')\n",
    "df3=pd.read_csv('tracks_2019_la-pa.csv')\n",
    "df4=pd.read_csv('tracks_2019_pa-01.csv')\n",
    "df5=pd.read_csv('tracks_2019_0a-80.csv')\n",
    "df6=pd.read_csv('tracks_2019_8a-99.csv')\n",
    "\n",
    "df=pd.concat([df1,df2,df3, df4, df5, df6], axis=0)\n",
    "df.drop('Unnamed: 0', axis=1, inplace=True)\n",
    "df.drop('Unnamed: 0.1', axis=1, inplace=True)\n",
    "df = df.drop_duplicates(subset='track_id', keep=\"first\")\n",
    "df.reset_index(drop=True, inplace=True)\n",
    "df.info()"
   ]
  },
  {
   "cell_type": "code",
   "execution_count": 134,
   "metadata": {},
   "outputs": [
    {
     "name": "stderr",
     "output_type": "stream",
     "text": [
      "100%|██████████| 4723/4723 [10:41<00:00,  7.36it/s]  \n"
     ]
    }
   ],
   "source": [
    "artists_ids=list(df['artists_id'].drop_duplicates())\n",
    "\n",
    "genres = []\n",
    "errors = []\n",
    "for i in tqdm(range(0,len(artists_ids),50)):\n",
    "    temp=getGenres(artists_ids[i:i+50], api_token)\n",
    "    if temp!= None:\n",
    "        genres+=temp\n",
    "    else: \n",
    "        errors += artists_ids[i:i+50]\n",
    "genres=pd.DataFrame(genres, columns = [\"artists_id\", \"genres\"])\n",
    "df = pd.merge(df,genres, how = \"left\", on='artists_id')"
   ]
  },
  {
   "cell_type": "code",
   "execution_count": 140,
   "metadata": {},
   "outputs": [],
   "source": [
    "df.to_csv(\"tracks_2019_genres.csv\", sep = ',')"
   ]
  }
 ],
 "metadata": {
  "kernelspec": {
   "display_name": "Python [conda env:nf] *",
   "language": "python",
   "name": "conda-env-nf-py"
  },
  "language_info": {
   "codemirror_mode": {
    "name": "ipython",
    "version": 3
   },
   "file_extension": ".py",
   "mimetype": "text/x-python",
   "name": "python",
   "nbconvert_exporter": "python",
   "pygments_lexer": "ipython3",
   "version": "3.6.10"
  },
  "toc": {
   "base_numbering": 1,
   "nav_menu": {},
   "number_sections": true,
   "sideBar": true,
   "skip_h1_title": false,
   "title_cell": "Table of Contents",
   "title_sidebar": "Contents",
   "toc_cell": false,
   "toc_position": {},
   "toc_section_display": true,
   "toc_window_display": false
  },
  "varInspector": {
   "cols": {
    "lenName": 16,
    "lenType": 16,
    "lenVar": 40
   },
   "kernels_config": {
    "python": {
     "delete_cmd_postfix": "",
     "delete_cmd_prefix": "del ",
     "library": "var_list.py",
     "varRefreshCmd": "print(var_dic_list())"
    },
    "r": {
     "delete_cmd_postfix": ") ",
     "delete_cmd_prefix": "rm(",
     "library": "var_list.r",
     "varRefreshCmd": "cat(var_dic_list()) "
    }
   },
   "types_to_exclude": [
    "module",
    "function",
    "builtin_function_or_method",
    "instance",
    "_Feature"
   ],
   "window_display": false
  }
 },
 "nbformat": 4,
 "nbformat_minor": 4
}
