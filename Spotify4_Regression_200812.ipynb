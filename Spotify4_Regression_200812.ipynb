{
 "cells": [
  {
   "cell_type": "markdown",
   "metadata": {},
   "source": [
    "# Spotify NB 4 - regression\n",
    "# Set up"
   ]
  },
  {
   "cell_type": "code",
   "execution_count": 27,
   "metadata": {},
   "outputs": [],
   "source": [
    "%reset -fs"
   ]
  },
  {
   "cell_type": "code",
   "execution_count": 28,
   "metadata": {},
   "outputs": [],
   "source": [
    "import pandas as pd\n",
    "import numpy as np\n",
    "import json\n",
    "import math\n",
    "\n",
    "from datetime import datetime as dt\n",
    "import seaborn as sns\n",
    "import matplotlib.pyplot as plt\n",
    "import time\n",
    "from tqdm import tqdm\n",
    "\n",
    "from sklearn.compose import ColumnTransformer\n",
    "from sklearn.pipeline import Pipeline\n",
    "from sklearn.impute import SimpleImputer\n",
    "from sklearn import tree\n",
    "from sklearn.ensemble import StackingRegressor\n",
    "\n",
    "import sklearn as skl\n",
    "import sklearn.linear_model as skl_lm\n",
    "import sklearn.ensemble as skl_e\n",
    "import sklearn.metrics as skl_m\n",
    "import sklearn.feature_selection as skl_fs\n",
    "import sklearn.cluster as skl_c\n",
    "import sklearn.preprocessing as skl_p\n",
    "import sklearn.model_selection as skl_ms\n",
    "\n",
    "import xgboost as xgb\n",
    "import statsmodels.api as sm\n",
    "from patsy import dmatrices\n",
    "import scipy.stats as ss\n",
    "from statsmodels.stats.outliers_influence import variance_inflation_factor\n",
    "\n",
    "from keras.callbacks import ModelCheckpoint\n",
    "from keras.models import Sequential\n",
    "from keras.layers import Dense, Activation, Flatten\n",
    "from sklearn.metrics import mean_absolute_error \n",
    "import warnings \n",
    "warnings.filterwarnings('ignore')\n",
    "warnings.filterwarnings('ignore', category=DeprecationWarning)\n",
    "\n",
    "%matplotlib inline\n",
    "plt.style.use('seaborn')\n",
    "RSEED=np.random.seed(42)\n",
    "\n",
    "sns.set(style=\"whitegrid\", palette=\"viridis\", color_codes=True)"
   ]
  },
  {
   "cell_type": "markdown",
   "metadata": {},
   "source": [
    "## Data cleaning & feature engineering\n",
    "The data was cleaned in the course of the EDA. Additional features were created and the new dataset was saved to a csv, that will be the starting point for this notebook. For further information on the data cleaning please refer to the respective notebook (Spotify_2019_EDA)."
   ]
  },
  {
   "cell_type": "code",
   "execution_count": 29,
   "metadata": {},
   "outputs": [],
   "source": [
    "data = pd.read_csv('data/tracks_2019_cleaned.csv')\n",
    "data.drop('Unnamed: 0', axis=1, inplace=True)\n",
    "data.reset_index(drop=True, inplace=True)"
   ]
  },
  {
   "cell_type": "code",
   "execution_count": 60,
   "metadata": {},
   "outputs": [
    {
     "data": {
      "text/plain": [
       "(104360, 28)"
      ]
     },
     "execution_count": 60,
     "metadata": {},
     "output_type": "execute_result"
    }
   ],
   "source": [
    "df=data.copy()#.sample(frac=.3, random_state=RSEED)\n",
    "df.shape"
   ]
  },
  {
   "cell_type": "markdown",
   "metadata": {},
   "source": [
    "## Assigning train and test data"
   ]
  },
  {
   "cell_type": "code",
   "execution_count": 61,
   "metadata": {},
   "outputs": [],
   "source": [
    "y = df['popularity']\n",
    "X = df.drop(y.name, axis=1)\n",
    "X_train, X_test, y_train, y_test = skl_ms.train_test_split(X, y, test_size=0.3, random_state=RSEED)"
   ]
  },
  {
   "cell_type": "markdown",
   "metadata": {},
   "source": [
    "## Displaying results"
   ]
  },
  {
   "cell_type": "code",
   "execution_count": 32,
   "metadata": {},
   "outputs": [],
   "source": [
    "def show_regression_results(preprocessor, model, X, y):\n",
    "    \n",
    "    X_preprocessed = preprocessor.transform(X)\n",
    "    y_predicted = model.predict(X_preprocessed)\n",
    "    \n",
    "    # calculating and printing scores\n",
    "    print('MSE :\\n{:.2f}'.format(\n",
    "        skl_m.mean_squared_error(y, y_predicted))),\n",
    "    print(\"RMSE:\\n{:.2f}\".format(\n",
    "        skl_m.mean_squared_error(y, y_predicted, squared=False))),\n",
    "    print(\"R2:\\n{:.2f}\".format(skl_m.r2_score(y, y_predicted))),\n",
    "    print(\"MAE:\\n{:.2f}\".format(\n",
    "        skl_m.median_absolute_error(y, y_predicted)))"
   ]
  },
  {
   "cell_type": "markdown",
   "metadata": {},
   "source": [
    "# Baseline model - linear regression"
   ]
  },
  {
   "cell_type": "markdown",
   "metadata": {},
   "source": [
    "## Preprocessing"
   ]
  },
  {
   "cell_type": "code",
   "execution_count": 33,
   "metadata": {
    "scrolled": true
   },
   "outputs": [
    {
     "data": {
      "text/plain": [
       "['main_genres']"
      ]
     },
     "execution_count": 33,
     "metadata": {},
     "output_type": "execute_result"
    }
   ],
   "source": [
    "# Defining categorical features for preprocessing\n",
    "categoric_features = list(X.columns[X.dtypes == object])+ list(X.columns[X.dtypes == bool])\n",
    "exclude = ['album', 'artists', 'artists_id', 'available_markets','cover_url', 'name',\n",
    "           'preview_url', 'release_date', 'track_id', 'genres']\n",
    "categoric_features = [x for x in categoric_features if x not in exclude]\n",
    "categoric_features"
   ]
  },
  {
   "cell_type": "code",
   "execution_count": 34,
   "metadata": {
    "scrolled": false
   },
   "outputs": [
    {
     "data": {
      "text/plain": [
       "['acousticness',\n",
       " 'album_track_no',\n",
       " 'danceability',\n",
       " 'duration_ms',\n",
       " 'energy',\n",
       " 'explicit',\n",
       " 'instrumentalness',\n",
       " 'liveness',\n",
       " 'loudness',\n",
       " 'speechiness',\n",
       " 'tempo',\n",
       " 'time_signature',\n",
       " 'total_album_tracks',\n",
       " 'place_in_album',\n",
       " 'month',\n",
       " 'no_genres']"
      ]
     },
     "execution_count": 34,
     "metadata": {},
     "output_type": "execute_result"
    }
   ],
   "source": [
    "# Defining numerical features for preprocessing\n",
    "numeric_features = list(X.columns[X.dtypes!=object])\n",
    "exclude = list(X.columns[X.dtypes == bool])\n",
    "numeric_features = [x for x in numeric_features if x not in exclude]\n",
    "numeric_features"
   ]
  },
  {
   "cell_type": "code",
   "execution_count": 35,
   "metadata": {},
   "outputs": [],
   "source": [
    "# Creating transforming pipes to preprocess both categorical and numerical data\n",
    "numeric_transformer = Pipeline(steps=[\n",
    "    ('imputer', SimpleImputer(strategy='median')),\n",
    "    ('scaler', skl_p.StandardScaler())\n",
    "])\n",
    "\n",
    "categorical_transformer = Pipeline(steps=[\n",
    "    ('imputer', SimpleImputer(strategy='constant', fill_value='missing')),\n",
    "    ('onehot', skl_p.OneHotEncoder(drop='first'))])\n",
    "\n",
    "# Combining the preprocessing pipelines\n",
    "preprocessor = ColumnTransformer(\n",
    "    transformers=[\n",
    "        ('num', numeric_transformer, numeric_features),\n",
    "        ('cat', categorical_transformer, categoric_features)\n",
    "    ])"
   ]
  },
  {
   "cell_type": "markdown",
   "metadata": {},
   "source": [
    "## Model"
   ]
  },
  {
   "cell_type": "code",
   "execution_count": 36,
   "metadata": {
    "collapsed": true
   },
   "outputs": [
    {
     "data": {
      "text/plain": [
       "Pipeline(steps=[('preprocessor',\n",
       "                 ColumnTransformer(transformers=[('num',\n",
       "                                                  Pipeline(steps=[('imputer',\n",
       "                                                                   SimpleImputer(strategy='median')),\n",
       "                                                                  ('scaler',\n",
       "                                                                   StandardScaler())]),\n",
       "                                                  ['acousticness',\n",
       "                                                   'album_track_no',\n",
       "                                                   'danceability',\n",
       "                                                   'duration_ms', 'energy',\n",
       "                                                   'explicit',\n",
       "                                                   'instrumentalness',\n",
       "                                                   'liveness', 'loudness',\n",
       "                                                   'speechiness', 'tempo',\n",
       "                                                   'time_signature',\n",
       "                                                   'total_album_tracks',\n",
       "                                                   'place_in_album', 'month',\n",
       "                                                   'no_genres']),\n",
       "                                                 ('cat',\n",
       "                                                  Pipeline(steps=[('imputer',\n",
       "                                                                   SimpleImputer(fill_value='missing',\n",
       "                                                                                 strategy='constant')),\n",
       "                                                                  ('onehot',\n",
       "                                                                   OneHotEncoder(drop='first'))]),\n",
       "                                                  ['main_genres'])])),\n",
       "                ('linreg', LinearRegression(n_jobs=-1))])"
      ]
     },
     "execution_count": 36,
     "metadata": {},
     "output_type": "execute_result"
    }
   ],
   "source": [
    "# Creating a pipe with the preprocessor and the baseline model\n",
    "base_pipe = Pipeline([\n",
    "    ('preprocessor', preprocessor),\n",
    "    ('linreg', skl_lm.LinearRegression(n_jobs=-1))\n",
    "     ])\n",
    "\n",
    "base_pipe.fit(X_train, y_train)"
   ]
  },
  {
   "cell_type": "markdown",
   "metadata": {},
   "source": [
    "### Performance on train data"
   ]
  },
  {
   "cell_type": "code",
   "execution_count": 37,
   "metadata": {},
   "outputs": [
    {
     "name": "stdout",
     "output_type": "stream",
     "text": [
      "MSE :\n",
      "153.18\n",
      "RMSE:\n",
      "12.38\n",
      "R2:\n",
      "0.33\n",
      "MAE:\n",
      "6.70\n"
     ]
    }
   ],
   "source": [
    "show_regression_results(base_pipe['preprocessor'], base_pipe['linreg'], X_train, y_train)"
   ]
  },
  {
   "cell_type": "markdown",
   "metadata": {},
   "source": [
    "### Performance on test data"
   ]
  },
  {
   "cell_type": "code",
   "execution_count": 38,
   "metadata": {},
   "outputs": [
    {
     "name": "stdout",
     "output_type": "stream",
     "text": [
      "MSE :\n",
      "150.98\n",
      "RMSE:\n",
      "12.29\n",
      "R2:\n",
      "0.33\n",
      "MAE:\n",
      "6.67\n"
     ]
    }
   ],
   "source": [
    "show_regression_results(base_pipe['preprocessor'], base_pipe['linreg'], X_test, y_test)"
   ]
  },
  {
   "cell_type": "markdown",
   "metadata": {},
   "source": [
    "# Predictive modeling"
   ]
  },
  {
   "cell_type": "markdown",
   "metadata": {},
   "source": [
    "## Feature selection - test for multicolliniarity"
   ]
  },
  {
   "cell_type": "markdown",
   "metadata": {},
   "source": [
    "The Variance Inflation Factor (VIF) is a measure of colinearity among predictor variables within a multiple regression. It is calculated by taking the the ratio of the variance of all a given model's betas divide by the variane of a single beta if it were fit alone. A VIF between 5-10 indicates multicolinearity is likely present and you should consider dropping the variable. (https://etav.github.io/python/vif_factor_python.html)"
   ]
  },
  {
   "cell_type": "code",
   "execution_count": 39,
   "metadata": {},
   "outputs": [
    {
     "data": {
      "text/html": [
       "<div>\n",
       "<style scoped>\n",
       "    .dataframe tbody tr th:only-of-type {\n",
       "        vertical-align: middle;\n",
       "    }\n",
       "\n",
       "    .dataframe tbody tr th {\n",
       "        vertical-align: top;\n",
       "    }\n",
       "\n",
       "    .dataframe thead th {\n",
       "        text-align: right;\n",
       "    }\n",
       "</style>\n",
       "<table border=\"1\" class=\"dataframe\">\n",
       "  <thead>\n",
       "    <tr style=\"text-align: right;\">\n",
       "      <th></th>\n",
       "      <th>VIF Factor</th>\n",
       "      <th>features</th>\n",
       "    </tr>\n",
       "  </thead>\n",
       "  <tbody>\n",
       "    <tr>\n",
       "      <th>0</th>\n",
       "      <td>1105.6</td>\n",
       "      <td>Intercept</td>\n",
       "    </tr>\n",
       "    <tr>\n",
       "      <th>1</th>\n",
       "      <td>5.1</td>\n",
       "      <td>main_genres[T.classical]</td>\n",
       "    </tr>\n",
       "    <tr>\n",
       "      <th>2</th>\n",
       "      <td>3.3</td>\n",
       "      <td>main_genres[T.country]</td>\n",
       "    </tr>\n",
       "    <tr>\n",
       "      <th>3</th>\n",
       "      <td>3.4</td>\n",
       "      <td>main_genres[T.disco]</td>\n",
       "    </tr>\n",
       "    <tr>\n",
       "      <th>4</th>\n",
       "      <td>12.8</td>\n",
       "      <td>main_genres[T.electronic]</td>\n",
       "    </tr>\n",
       "    <tr>\n",
       "      <th>5</th>\n",
       "      <td>4.7</td>\n",
       "      <td>main_genres[T.funk]</td>\n",
       "    </tr>\n",
       "    <tr>\n",
       "      <th>6</th>\n",
       "      <td>30.7</td>\n",
       "      <td>main_genres[T.hiphop]</td>\n",
       "    </tr>\n",
       "    <tr>\n",
       "      <th>7</th>\n",
       "      <td>8.0</td>\n",
       "      <td>main_genres[T.house]</td>\n",
       "    </tr>\n",
       "    <tr>\n",
       "      <th>8</th>\n",
       "      <td>6.4</td>\n",
       "      <td>main_genres[T.jazz]</td>\n",
       "    </tr>\n",
       "    <tr>\n",
       "      <th>9</th>\n",
       "      <td>5.7</td>\n",
       "      <td>main_genres[T.latin]</td>\n",
       "    </tr>\n",
       "    <tr>\n",
       "      <th>10</th>\n",
       "      <td>9.9</td>\n",
       "      <td>main_genres[T.metal]</td>\n",
       "    </tr>\n",
       "    <tr>\n",
       "      <th>11</th>\n",
       "      <td>68.3</td>\n",
       "      <td>main_genres[T.other]</td>\n",
       "    </tr>\n",
       "    <tr>\n",
       "      <th>12</th>\n",
       "      <td>38.5</td>\n",
       "      <td>main_genres[T.pop]</td>\n",
       "    </tr>\n",
       "    <tr>\n",
       "      <th>13</th>\n",
       "      <td>6.3</td>\n",
       "      <td>main_genres[T.punk]</td>\n",
       "    </tr>\n",
       "    <tr>\n",
       "      <th>14</th>\n",
       "      <td>4.4</td>\n",
       "      <td>main_genres[T.r&amp;b]</td>\n",
       "    </tr>\n",
       "    <tr>\n",
       "      <th>15</th>\n",
       "      <td>19.4</td>\n",
       "      <td>main_genres[T.rap]</td>\n",
       "    </tr>\n",
       "    <tr>\n",
       "      <th>16</th>\n",
       "      <td>3.4</td>\n",
       "      <td>main_genres[T.regional mexican]</td>\n",
       "    </tr>\n",
       "    <tr>\n",
       "      <th>17</th>\n",
       "      <td>10.2</td>\n",
       "      <td>main_genres[T.rock]</td>\n",
       "    </tr>\n",
       "    <tr>\n",
       "      <th>18</th>\n",
       "      <td>2.2</td>\n",
       "      <td>main_genres[T.sleep]</td>\n",
       "    </tr>\n",
       "    <tr>\n",
       "      <th>19</th>\n",
       "      <td>5.4</td>\n",
       "      <td>main_genres[T.soul]</td>\n",
       "    </tr>\n",
       "    <tr>\n",
       "      <th>20</th>\n",
       "      <td>178.2</td>\n",
       "      <td>main_genres[T.unspecified]</td>\n",
       "    </tr>\n",
       "    <tr>\n",
       "      <th>21</th>\n",
       "      <td>1.7</td>\n",
       "      <td>acousticness</td>\n",
       "    </tr>\n",
       "    <tr>\n",
       "      <th>22</th>\n",
       "      <td>2.5</td>\n",
       "      <td>album_track_no</td>\n",
       "    </tr>\n",
       "    <tr>\n",
       "      <th>23</th>\n",
       "      <td>1.4</td>\n",
       "      <td>danceability</td>\n",
       "    </tr>\n",
       "    <tr>\n",
       "      <th>24</th>\n",
       "      <td>1.1</td>\n",
       "      <td>duration_ms</td>\n",
       "    </tr>\n",
       "    <tr>\n",
       "      <th>25</th>\n",
       "      <td>3.1</td>\n",
       "      <td>energy</td>\n",
       "    </tr>\n",
       "    <tr>\n",
       "      <th>26</th>\n",
       "      <td>1.5</td>\n",
       "      <td>explicit</td>\n",
       "    </tr>\n",
       "    <tr>\n",
       "      <th>27</th>\n",
       "      <td>1.5</td>\n",
       "      <td>instrumentalness</td>\n",
       "    </tr>\n",
       "    <tr>\n",
       "      <th>28</th>\n",
       "      <td>1.1</td>\n",
       "      <td>liveness</td>\n",
       "    </tr>\n",
       "    <tr>\n",
       "      <th>29</th>\n",
       "      <td>3.0</td>\n",
       "      <td>loudness</td>\n",
       "    </tr>\n",
       "    <tr>\n",
       "      <th>30</th>\n",
       "      <td>1.4</td>\n",
       "      <td>speechiness</td>\n",
       "    </tr>\n",
       "    <tr>\n",
       "      <th>31</th>\n",
       "      <td>1.1</td>\n",
       "      <td>tempo</td>\n",
       "    </tr>\n",
       "    <tr>\n",
       "      <th>32</th>\n",
       "      <td>1.1</td>\n",
       "      <td>time_signature</td>\n",
       "    </tr>\n",
       "    <tr>\n",
       "      <th>33</th>\n",
       "      <td>3.0</td>\n",
       "      <td>total_album_tracks</td>\n",
       "    </tr>\n",
       "    <tr>\n",
       "      <th>34</th>\n",
       "      <td>1.5</td>\n",
       "      <td>place_in_album</td>\n",
       "    </tr>\n",
       "    <tr>\n",
       "      <th>35</th>\n",
       "      <td>1.0</td>\n",
       "      <td>month</td>\n",
       "    </tr>\n",
       "    <tr>\n",
       "      <th>36</th>\n",
       "      <td>2.5</td>\n",
       "      <td>no_genres</td>\n",
       "    </tr>\n",
       "  </tbody>\n",
       "</table>\n",
       "</div>"
      ],
      "text/plain": [
       "    VIF Factor                         features\n",
       "0       1105.6                        Intercept\n",
       "1          5.1         main_genres[T.classical]\n",
       "2          3.3           main_genres[T.country]\n",
       "3          3.4             main_genres[T.disco]\n",
       "4         12.8        main_genres[T.electronic]\n",
       "5          4.7              main_genres[T.funk]\n",
       "6         30.7            main_genres[T.hiphop]\n",
       "7          8.0             main_genres[T.house]\n",
       "8          6.4              main_genres[T.jazz]\n",
       "9          5.7             main_genres[T.latin]\n",
       "10         9.9             main_genres[T.metal]\n",
       "11        68.3             main_genres[T.other]\n",
       "12        38.5               main_genres[T.pop]\n",
       "13         6.3              main_genres[T.punk]\n",
       "14         4.4               main_genres[T.r&b]\n",
       "15        19.4               main_genres[T.rap]\n",
       "16         3.4  main_genres[T.regional mexican]\n",
       "17        10.2              main_genres[T.rock]\n",
       "18         2.2             main_genres[T.sleep]\n",
       "19         5.4              main_genres[T.soul]\n",
       "20       178.2       main_genres[T.unspecified]\n",
       "21         1.7                     acousticness\n",
       "22         2.5                   album_track_no\n",
       "23         1.4                     danceability\n",
       "24         1.1                      duration_ms\n",
       "25         3.1                           energy\n",
       "26         1.5                         explicit\n",
       "27         1.5                 instrumentalness\n",
       "28         1.1                         liveness\n",
       "29         3.0                         loudness\n",
       "30         1.4                      speechiness\n",
       "31         1.1                            tempo\n",
       "32         1.1                   time_signature\n",
       "33         3.0               total_album_tracks\n",
       "34         1.5                   place_in_album\n",
       "35         1.0                            month\n",
       "36         2.5                        no_genres"
      ]
     },
     "execution_count": 39,
     "metadata": {},
     "output_type": "execute_result"
    }
   ],
   "source": [
    "#Gathering features\n",
    "features = \"+\".join(numeric_features+categoric_features)\n",
    "y1, X1 = dmatrices('popularity ~' + features, X.join(y), return_type='dataframe')\n",
    "\n",
    "# For each X, calculate VIF and save in dataframe\n",
    "vif = pd.DataFrame()\n",
    "vif[\"VIF Factor\"] = [variance_inflation_factor(X1.values, i) for i in range(X1.shape[1])]\n",
    "vif[\"features\"] = X1.columns\n",
    "vif.round(1)"
   ]
  },
  {
   "cell_type": "markdown",
   "metadata": {},
   "source": [
    "The result shows a high VIF for some of the main genre dummies (possibly because of correlations with each other). Therefore, this feature will not be used in the ensuing regression. "
   ]
  },
  {
   "cell_type": "markdown",
   "metadata": {},
   "source": [
    "## Preprocessing"
   ]
  },
  {
   "cell_type": "markdown",
   "metadata": {},
   "source": [
    "### Label"
   ]
  },
  {
   "cell_type": "code",
   "execution_count": 40,
   "metadata": {},
   "outputs": [],
   "source": [
    "# Scaling the label using standard scaler\n",
    "ss_y = skl_p.StandardScaler().fit(y_train.to_frame())\n",
    "y_train_ss = ss_y.transform(y_train.to_frame())\n",
    "y_test_ss = ss_y.transform(y_test.to_frame())"
   ]
  },
  {
   "cell_type": "code",
   "execution_count": 41,
   "metadata": {},
   "outputs": [],
   "source": [
    "# Scaling the label using min-max scaler\n",
    "mm_y = skl_p.MinMaxScaler().fit(y_train.to_frame())\n",
    "y_train_mm = mm_y.transform(y_train.to_frame())\n",
    "y_test_mm = mm_y.transform(y_test.to_frame())"
   ]
  },
  {
   "cell_type": "code",
   "execution_count": 42,
   "metadata": {},
   "outputs": [],
   "source": [
    "# Scaling the label using box cox transformation \n",
    "pt_constant=0.01\n",
    "\n",
    "#y_train_pt = ss.boxcox(y_train+pt_constant, 0)\n",
    "y_train_pt = np.log(y_train+pt_constant)\n",
    "\n",
    "pt_y = skl_p.PowerTransformer(method='box-cox').fit(y_train.to_frame()+pt_constant)\n",
    "y_train_pt = pt_y.transform(y_train.to_frame()+pt_constant)\n",
    "y_test_pt = pt_y.transform(y_test.to_frame()+pt_constant)"
   ]
  },
  {
   "cell_type": "code",
   "execution_count": 43,
   "metadata": {},
   "outputs": [
    {
     "data": {
      "image/png": "[encoded data removed]",
      "text/plain": [
       "<Figure size 1080x504 with 4 Axes>"
      ]
     },
     "metadata": {},
     "output_type": "display_data"
    }
   ],
   "source": [
    "# Plotting the transformed data to compare it to the original data\n",
    "f, axes = plt.subplots(2, 2, figsize=(15, 7), sharex=False)\n",
    "sns.distplot(np.array(y_train), ax=axes[0,0]).set_title('original data');\n",
    "sns.distplot(y_train_ss, ax=axes[0,1]).set_title('standard scaled');\n",
    "sns.distplot(y_train_mm, ax=axes[1,0]).set_title('min-max scaled');\n",
    "sns.distplot(y_train_pt, ax=axes[1,1]).set_title('box-cox transformed');"
   ]
  },
  {
   "cell_type": "markdown",
   "metadata": {},
   "source": [
    "Due to the way the label data is skewed, conventional transformation models don't succeed to normalise it. Thus we'll proceed using the original data."
   ]
  },
  {
   "cell_type": "markdown",
   "metadata": {},
   "source": [
    "### Features"
   ]
  },
  {
   "cell_type": "code",
   "execution_count": 44,
   "metadata": {
    "scrolled": true
   },
   "outputs": [
    {
     "data": {
      "text/plain": [
       "[]"
      ]
     },
     "execution_count": 44,
     "metadata": {},
     "output_type": "execute_result"
    }
   ],
   "source": [
    "# Defining categorical features for preprocessing\n",
    "categoric_features = list(X.columns[X.dtypes == object]) + list(\n",
    "    X.columns[X.dtypes == bool])\n",
    "exclude = ['album', 'artists', 'artists_id', 'available_markets', 'cover_url', 'name',\n",
    "           'preview_url', 'release_date', 'track_id', 'genres', 'main_genres']\n",
    "categoric_features = [x for x in categoric_features if x not in exclude]\n",
    "categoric_features"
   ]
  },
  {
   "cell_type": "code",
   "execution_count": 45,
   "metadata": {
    "scrolled": false
   },
   "outputs": [
    {
     "data": {
      "text/plain": [
       "['acousticness',\n",
       " 'album_track_no',\n",
       " 'danceability',\n",
       " 'duration_ms',\n",
       " 'energy',\n",
       " 'explicit',\n",
       " 'instrumentalness',\n",
       " 'liveness',\n",
       " 'loudness',\n",
       " 'speechiness',\n",
       " 'tempo',\n",
       " 'time_signature',\n",
       " 'total_album_tracks',\n",
       " 'place_in_album',\n",
       " 'month',\n",
       " 'no_genres']"
      ]
     },
     "execution_count": 45,
     "metadata": {},
     "output_type": "execute_result"
    }
   ],
   "source": [
    "# Defining numerical features for preprocessing\n",
    "numeric_features = list(X.columns[X.dtypes != object])\n",
    "exclude = list(X.columns[X.dtypes == bool])\n",
    "numeric_features = [x for x in numeric_features if x not in exclude]\n",
    "numeric_features"
   ]
  },
  {
   "cell_type": "code",
   "execution_count": 46,
   "metadata": {},
   "outputs": [],
   "source": [
    "# Creating transforming pipes to preprocess both categorical and numerical data\n",
    "numeric_transformer = Pipeline(steps=[\n",
    "    ('imputer', SimpleImputer(strategy='median')),\n",
    "    ('scaler', skl_p.StandardScaler())\n",
    "])\n",
    "\n",
    "categorical_transformer = Pipeline(steps=[\n",
    "    ('imputer', SimpleImputer(strategy='constant', fill_value='missing')),\n",
    "    ('onehot', skl_p.OneHotEncoder(drop='first'))])\n",
    "\n",
    "# Combining the preprocessing pipelines\n",
    "preprocessor = ColumnTransformer(\n",
    "    transformers=[\n",
    "        ('num', numeric_transformer, numeric_features),\n",
    "        ('cat', categorical_transformer, categoric_features)\n",
    "    ])\n",
    "\n",
    "fitted_preprocessor=preprocessor.fit(X_train)"
   ]
  },
  {
   "cell_type": "markdown",
   "metadata": {},
   "source": [
    "## Testing different models"
   ]
  },
  {
   "cell_type": "code",
   "execution_count": 47,
   "metadata": {},
   "outputs": [],
   "source": [
    "# chosing models for testing\n",
    "models={'linreg': skl_lm.LinearRegression(n_jobs=-1),\n",
    "        'passive_aggressive' : skl_lm.PassiveAggressiveRegressor(random_state=RSEED),\n",
    "        'ransac' : skl_lm.RANSACRegressor(random_state=RSEED),\n",
    "        'elastic' : skl_lm.ElasticNet(random_state=RSEED),\n",
    "        'stochastic_gradient_decent' : skl_lm.SGDRegressor(max_iter=1000, tol=1e-3, random_state=RSEED),\n",
    "        'tree': tree.DecisionTreeRegressor(criterion = \"mae\", max_depth=3,random_state=RSEED),\n",
    "        'ada_boost' : skl_e.AdaBoostRegressor(random_state=RSEED),\n",
    "        'xgb' : xgb.XGBRegressor( n_jobs=-1)\n",
    "       }"
   ]
  },
  {
   "cell_type": "code",
   "execution_count": 48,
   "metadata": {},
   "outputs": [
    {
     "name": "stderr",
     "output_type": "stream",
     "text": [
      "[Parallel(n_jobs=1)]: Using backend SequentialBackend with 1 concurrent workers.\n",
      "[Parallel(n_jobs=1)]: Done   1 out of   1 | elapsed:    0.7s remaining:    0.0s\n",
      "[Parallel(n_jobs=1)]: Done   2 out of   2 | elapsed:    1.4s remaining:    0.0s\n",
      "[Parallel(n_jobs=1)]: Done   3 out of   3 | elapsed:    2.0s remaining:    0.0s\n",
      "[Parallel(n_jobs=1)]: Done   4 out of   4 | elapsed:    2.6s remaining:    0.0s\n",
      "[Parallel(n_jobs=1)]: Done   5 out of   5 | elapsed:    3.3s finished\n",
      "[Parallel(n_jobs=1)]: Using backend SequentialBackend with 1 concurrent workers.\n",
      "[Parallel(n_jobs=1)]: Done   1 out of   1 | elapsed:    1.1s remaining:    0.0s\n",
      "[Parallel(n_jobs=1)]: Done   2 out of   2 | elapsed:    1.9s remaining:    0.0s\n",
      "[Parallel(n_jobs=1)]: Done   3 out of   3 | elapsed:    2.9s remaining:    0.0s\n",
      "[Parallel(n_jobs=1)]: Done   4 out of   4 | elapsed:    3.7s remaining:    0.0s\n",
      "[Parallel(n_jobs=1)]: Done   5 out of   5 | elapsed:    4.5s finished\n",
      "[Parallel(n_jobs=1)]: Using backend SequentialBackend with 1 concurrent workers.\n",
      "[Parallel(n_jobs=1)]: Done   1 out of   1 | elapsed:    0.9s remaining:    0.0s\n",
      "[Parallel(n_jobs=1)]: Done   2 out of   2 | elapsed:    1.9s remaining:    0.0s\n",
      "[Parallel(n_jobs=1)]: Done   3 out of   3 | elapsed:    2.9s remaining:    0.0s\n",
      "[Parallel(n_jobs=1)]: Done   4 out of   4 | elapsed:    3.8s remaining:    0.0s\n",
      "[Parallel(n_jobs=1)]: Done   5 out of   5 | elapsed:    4.8s finished\n",
      "[Parallel(n_jobs=1)]: Using backend SequentialBackend with 1 concurrent workers.\n",
      "[Parallel(n_jobs=1)]: Done   1 out of   1 | elapsed:    0.7s remaining:    0.0s\n",
      "[Parallel(n_jobs=1)]: Done   2 out of   2 | elapsed:    1.3s remaining:    0.0s\n",
      "[Parallel(n_jobs=1)]: Done   3 out of   3 | elapsed:    1.9s remaining:    0.0s\n",
      "[Parallel(n_jobs=1)]: Done   4 out of   4 | elapsed:    2.5s remaining:    0.0s\n",
      "[Parallel(n_jobs=1)]: Done   5 out of   5 | elapsed:    3.2s finished\n",
      "[Parallel(n_jobs=1)]: Using backend SequentialBackend with 1 concurrent workers.\n",
      "[Parallel(n_jobs=1)]: Done   1 out of   1 | elapsed:    1.2s remaining:    0.0s\n",
      "[Parallel(n_jobs=1)]: Done   2 out of   2 | elapsed:    2.3s remaining:    0.0s\n",
      "[Parallel(n_jobs=1)]: Done   3 out of   3 | elapsed:    3.4s remaining:    0.0s\n",
      "[Parallel(n_jobs=1)]: Done   4 out of   4 | elapsed:    4.3s remaining:    0.0s\n",
      "[Parallel(n_jobs=1)]: Done   5 out of   5 | elapsed:    5.3s finished\n",
      "[Parallel(n_jobs=1)]: Using backend SequentialBackend with 1 concurrent workers.\n",
      "[Parallel(n_jobs=1)]: Done   1 out of   1 | elapsed: 31.6min remaining:    0.0s\n",
      "[Parallel(n_jobs=1)]: Done   2 out of   2 | elapsed: 62.3min remaining:    0.0s\n",
      "[Parallel(n_jobs=1)]: Done   3 out of   3 | elapsed: 91.6min remaining:    0.0s\n",
      "[Parallel(n_jobs=1)]: Done   4 out of   4 | elapsed: 121.0min remaining:    0.0s\n",
      "[Parallel(n_jobs=1)]: Done   5 out of   5 | elapsed: 150.5min finished\n",
      "[Parallel(n_jobs=1)]: Using backend SequentialBackend with 1 concurrent workers.\n",
      "[Parallel(n_jobs=1)]: Done   1 out of   1 | elapsed:   10.5s remaining:    0.0s\n",
      "[Parallel(n_jobs=1)]: Done   2 out of   2 | elapsed:   23.4s remaining:    0.0s\n",
      "[Parallel(n_jobs=1)]: Done   3 out of   3 | elapsed:   35.4s remaining:    0.0s\n",
      "[Parallel(n_jobs=1)]: Done   4 out of   4 | elapsed:   46.4s remaining:    0.0s\n",
      "[Parallel(n_jobs=1)]: Done   5 out of   5 | elapsed:   58.4s finished\n",
      "[Parallel(n_jobs=1)]: Using backend SequentialBackend with 1 concurrent workers.\n"
     ]
    },
    {
     "name": "stdout",
     "output_type": "stream",
     "text": [
      "[02:18:01] WARNING: src/objective/regression_obj.cu:152: reg:linear is now deprecated in favor of reg:squarederror.\n"
     ]
    },
    {
     "name": "stderr",
     "output_type": "stream",
     "text": [
      "[Parallel(n_jobs=1)]: Done   1 out of   1 | elapsed:    9.3s remaining:    0.0s\n"
     ]
    },
    {
     "name": "stdout",
     "output_type": "stream",
     "text": [
      "[02:18:11] WARNING: src/objective/regression_obj.cu:152: reg:linear is now deprecated in favor of reg:squarederror.\n"
     ]
    },
    {
     "name": "stderr",
     "output_type": "stream",
     "text": [
      "[Parallel(n_jobs=1)]: Done   2 out of   2 | elapsed:   18.5s remaining:    0.0s\n"
     ]
    },
    {
     "name": "stdout",
     "output_type": "stream",
     "text": [
      "[02:18:20] WARNING: src/objective/regression_obj.cu:152: reg:linear is now deprecated in favor of reg:squarederror.\n"
     ]
    },
    {
     "name": "stderr",
     "output_type": "stream",
     "text": [
      "[Parallel(n_jobs=1)]: Done   3 out of   3 | elapsed:   27.8s remaining:    0.0s\n"
     ]
    },
    {
     "name": "stdout",
     "output_type": "stream",
     "text": [
      "[02:18:29] WARNING: src/objective/regression_obj.cu:152: reg:linear is now deprecated in favor of reg:squarederror.\n"
     ]
    },
    {
     "name": "stderr",
     "output_type": "stream",
     "text": [
      "[Parallel(n_jobs=1)]: Done   4 out of   4 | elapsed:   37.2s remaining:    0.0s\n"
     ]
    },
    {
     "name": "stdout",
     "output_type": "stream",
     "text": [
      "[02:18:38] WARNING: src/objective/regression_obj.cu:152: reg:linear is now deprecated in favor of reg:squarederror.\n"
     ]
    },
    {
     "name": "stderr",
     "output_type": "stream",
     "text": [
      "[Parallel(n_jobs=1)]: Done   5 out of   5 | elapsed:   46.6s finished\n"
     ]
    }
   ],
   "source": [
    "results = pd.DataFrame(columns=['Model', 'MSE', 'RMSE', 'R2', 'MAE'])\n",
    "i = 0\n",
    "\n",
    "for m in models.items():\n",
    "    # Building a full pipeline with our preprocessor and a model\n",
    "    pipe = Pipeline([('preprocessor', preprocessor), (m[0], m[1])])\n",
    "\n",
    "    # Making predictions on the training set using cross validation\n",
    "    y_train_predicted = skl_ms.cross_val_predict(pipe,\n",
    "                                                 X_train,\n",
    "                                                 y_train.ravel(),\n",
    "                                                 cv=5,\n",
    "                                                 verbose=5,\n",
    "                                                 n_jobs=-1)\n",
    "\n",
    "    # Calculating metrices\n",
    "    temp = pd.DataFrame(\n",
    "        {\n",
    "            'Model': m[0],\n",
    "            'MSE': skl_m.mean_squared_error(y_train, y_train_predicted),\n",
    "            'RMSE': skl_m.mean_squared_error(y_train, y_train_predicted, squared = False),\n",
    "            'R2' : skl_m.r2_score(y_train, y_train_predicted),\n",
    "            'MAE': skl_m.median_absolute_error(y_train, y_train_predicted),\n",
    "        },\n",
    "        index=[i])\n",
    "    i += 1\n",
    "\n",
    "    results = pd.concat([results, temp])"
   ]
  },
  {
   "cell_type": "code",
   "execution_count": 49,
   "metadata": {},
   "outputs": [
    {
     "data": {
      "text/html": [
       "<div>\n",
       "<style scoped>\n",
       "    .dataframe tbody tr th:only-of-type {\n",
       "        vertical-align: middle;\n",
       "    }\n",
       "\n",
       "    .dataframe tbody tr th {\n",
       "        vertical-align: top;\n",
       "    }\n",
       "\n",
       "    .dataframe thead th {\n",
       "        text-align: right;\n",
       "    }\n",
       "</style>\n",
       "<table border=\"1\" class=\"dataframe\">\n",
       "  <thead>\n",
       "    <tr style=\"text-align: right;\">\n",
       "      <th></th>\n",
       "      <th>Model</th>\n",
       "      <th>MSE</th>\n",
       "      <th>RMSE</th>\n",
       "      <th>R2</th>\n",
       "      <th>MAE</th>\n",
       "    </tr>\n",
       "  </thead>\n",
       "  <tbody>\n",
       "    <tr>\n",
       "      <th>0</th>\n",
       "      <td>linreg</td>\n",
       "      <td>169.07</td>\n",
       "      <td>13.00</td>\n",
       "      <td>0.26</td>\n",
       "      <td>7.61</td>\n",
       "    </tr>\n",
       "    <tr>\n",
       "      <th>1</th>\n",
       "      <td>passive_aggressive</td>\n",
       "      <td>259.86</td>\n",
       "      <td>16.12</td>\n",
       "      <td>-0.14</td>\n",
       "      <td>9.32</td>\n",
       "    </tr>\n",
       "    <tr>\n",
       "      <th>2</th>\n",
       "      <td>ransac</td>\n",
       "      <td>395.39</td>\n",
       "      <td>19.88</td>\n",
       "      <td>-0.73</td>\n",
       "      <td>8.84</td>\n",
       "    </tr>\n",
       "    <tr>\n",
       "      <th>3</th>\n",
       "      <td>elastic</td>\n",
       "      <td>180.35</td>\n",
       "      <td>13.43</td>\n",
       "      <td>0.21</td>\n",
       "      <td>8.41</td>\n",
       "    </tr>\n",
       "    <tr>\n",
       "      <th>4</th>\n",
       "      <td>stochastic_gradient_decent</td>\n",
       "      <td>169.86</td>\n",
       "      <td>13.03</td>\n",
       "      <td>0.26</td>\n",
       "      <td>7.62</td>\n",
       "    </tr>\n",
       "    <tr>\n",
       "      <th>5</th>\n",
       "      <td>tree</td>\n",
       "      <td>190.85</td>\n",
       "      <td>13.81</td>\n",
       "      <td>0.16</td>\n",
       "      <td>1.00</td>\n",
       "    </tr>\n",
       "    <tr>\n",
       "      <th>6</th>\n",
       "      <td>ada_boost</td>\n",
       "      <td>205.21</td>\n",
       "      <td>14.33</td>\n",
       "      <td>0.10</td>\n",
       "      <td>12.42</td>\n",
       "    </tr>\n",
       "    <tr>\n",
       "      <th>7</th>\n",
       "      <td>xgb</td>\n",
       "      <td>138.51</td>\n",
       "      <td>11.77</td>\n",
       "      <td>0.39</td>\n",
       "      <td>6.03</td>\n",
       "    </tr>\n",
       "  </tbody>\n",
       "</table>\n",
       "</div>"
      ],
      "text/plain": [
       "                        Model     MSE   RMSE    R2    MAE\n",
       "0                      linreg  169.07  13.00  0.26   7.61\n",
       "1          passive_aggressive  259.86  16.12 -0.14   9.32\n",
       "2                      ransac  395.39  19.88 -0.73   8.84\n",
       "3                     elastic  180.35  13.43  0.21   8.41\n",
       "4  stochastic_gradient_decent  169.86  13.03  0.26   7.62\n",
       "5                        tree  190.85  13.81  0.16   1.00\n",
       "6                   ada_boost  205.21  14.33  0.10  12.42\n",
       "7                         xgb  138.51  11.77  0.39   6.03"
      ]
     },
     "execution_count": 49,
     "metadata": {},
     "output_type": "execute_result"
    }
   ],
   "source": [
    "results.round(2)"
   ]
  },
  {
   "cell_type": "markdown",
   "metadata": {},
   "source": [
    "Based on the results above we'll proceed with Linear Regression, Stochastic Gradient Decent, Decision Tree and XGBoost. We will first optimise the models where possible/ neccessary and then stack them in the final model."
   ]
  },
  {
   "cell_type": "markdown",
   "metadata": {},
   "source": [
    "## Stacked model"
   ]
  },
  {
   "cell_type": "code",
   "execution_count": 67,
   "metadata": {
    "scrolled": true
   },
   "outputs": [
    {
     "name": "stderr",
     "output_type": "stream",
     "text": [
      "[Parallel(n_jobs=-1)]: Using backend LokyBackend with 4 concurrent workers.\n",
      "[Parallel(n_jobs=-1)]: Done   3 out of   3 | elapsed:  6.4min remaining:    0.0s\n",
      "[Parallel(n_jobs=-1)]: Done   3 out of   3 | elapsed:  6.4min finished\n",
      "[Parallel(n_jobs=-1)]: Using backend LokyBackend with 4 concurrent workers.\n",
      "[Parallel(n_jobs=-1)]: Done   3 out of   3 | elapsed:  6.2min remaining:    0.0s\n",
      "[Parallel(n_jobs=-1)]: Done   3 out of   3 | elapsed:  6.2min finished\n"
     ]
    }
   ],
   "source": [
    "# make a prediction with a stacking ensemble\n",
    "\n",
    "# defining the base models & chosing models based on outcome\n",
    "level0 = [('linreg', skl_lm.LinearRegression(n_jobs=-1)),\n",
    "          ('stochastic_gradient_decent', skl_lm.SGDRegressor(max_iter=1000, tol=1e-3, random_state=RSEED)),\n",
    "          ('tree', tree.DecisionTreeRegressor(criterion = \"mae\", max_depth=3,random_state=RSEED)),\n",
    "          ('XGB', xgb.XGBRegressor( n_jobs=-1))\n",
    "           ]\n",
    "\n",
    "# define meta learner model\n",
    "level1 = skl_lm.LinearRegression()\n",
    "\n",
    "# define the stacking ensemble\n",
    "stack = StackingRegressor(estimators=level0, final_estimator=level1, cv=3, n_jobs=-1)\n",
    "\n",
    "#build pipe\n",
    "stacked_pipe =  Pipeline([\n",
    "    ('preprocessor', preprocessor),\n",
    "    ('stack', stack)])\n",
    "\n",
    "scores = skl_ms.cross_val_score(stacked_pipe, X_train, y_train.values.ravel(), scoring='neg_median_absolute_error', cv=3, n_jobs=-1, verbose=5)\n",
    "\n",
    "\n",
    "# make a prediction for one example\n",
    "y_train_predicted = skl_ms.cross_val_predict(stacked_pipe, X_train, y_train.values.ravel(), cv=3, n_jobs=-1, verbose=5)\n"
   ]
  },
  {
   "cell_type": "code",
   "execution_count": 68,
   "metadata": {},
   "outputs": [
    {
     "name": "stdout",
     "output_type": "stream",
     "text": [
      "Cross-validation scores[-5.89787974 -5.88320379 -5.93883498]\n"
     ]
    }
   ],
   "source": [
    "stacked_pipe.fit(X_train, y_train)\n",
    "stacked_model = stacked_pipe['stack']\n",
    "print(\"Cross-validation scores\"+str(scores))"
   ]
  },
  {
   "cell_type": "markdown",
   "metadata": {},
   "source": [
    "### Performance on train data"
   ]
  },
  {
   "cell_type": "code",
   "execution_count": 69,
   "metadata": {},
   "outputs": [
    {
     "name": "stdout",
     "output_type": "stream",
     "text": [
      "MSE :\n",
      "135.45\n",
      "RMSE:\n",
      "11.64\n",
      "R2:\n",
      "0.41\n",
      "MAE:\n",
      "5.90\n"
     ]
    }
   ],
   "source": [
    "show_regression_results(fitted_preprocessor, stacked_model, X_train, y_train)"
   ]
  },
  {
   "cell_type": "markdown",
   "metadata": {},
   "source": [
    "### Performance on test data"
   ]
  },
  {
   "cell_type": "code",
   "execution_count": 70,
   "metadata": {},
   "outputs": [
    {
     "name": "stdout",
     "output_type": "stream",
     "text": [
      "MSE :\n",
      "136.07\n",
      "RMSE:\n",
      "11.66\n",
      "R2:\n",
      "0.39\n",
      "MAE:\n",
      "5.98\n"
     ]
    }
   ],
   "source": [
    "show_regression_results(fitted_preprocessor, stacked_model, X_test, y_test)"
   ]
  },
  {
   "cell_type": "markdown",
   "metadata": {},
   "source": [
    "## Feature Importance"
   ]
  },
  {
   "cell_type": "code",
   "execution_count": 77,
   "metadata": {},
   "outputs": [
    {
     "name": "stdout",
     "output_type": "stream",
     "text": [
      "[10:50:20] WARNING: src/objective/regression_obj.cu:152: reg:linear is now deprecated in favor of reg:squarederror.\n",
      "              features  importance\n",
      "0            no_genres    0.461618\n",
      "1       album_track_no    0.153866\n",
      "2   total_album_tracks    0.106443\n",
      "3             explicit    0.091671\n",
      "4          duration_ms    0.046865\n",
      "5          speechiness    0.024983\n",
      "6     instrumentalness    0.024673\n",
      "7             loudness    0.016184\n",
      "8               energy    0.015546\n",
      "9         acousticness    0.014518\n",
      "10        danceability    0.012355\n",
      "11               month    0.008626\n",
      "12            liveness    0.006576\n",
      "13               tempo    0.005612\n",
      "14      time_signature    0.005435\n",
      "15      place_in_album    0.005029\n"
     ]
    },
    {
     "data": {
      "image/png": "[encoded data removed]",
      "text/plain": [
       "<Figure size 576x396 with 1 Axes>"
      ]
     },
     "metadata": {},
     "output_type": "display_data"
    }
   ],
   "source": [
    "# model used for feature importances\n",
    "pipe = Pipeline([('preprocessor', preprocessor), ('XGB', xgb.XGBRegressor(n_jobs=-1))])\n",
    "pipe.fit(X_train, y_train)\n",
    "XGB =pipe['XGB']\n",
    "\n",
    "# feature importance\n",
    "imp = pd.DataFrame([x for x in zip(numeric_features+categoric_features,XGB.feature_importances_)])\n",
    "imp.columns = ['features', 'importance']\n",
    "imp = imp.sort_values(['importance'], ascending=False).reset_index(drop=True)\n",
    "print(imp)\n",
    "# plot\n",
    "chart=sns.barplot(x='features',y ='importance', data = imp, palette='viridis', order = imp['features'])\n",
    "chart.set_xticklabels(chart.get_xticklabels(), rotation=90);"
   ]
  },
  {
   "cell_type": "markdown",
   "metadata": {},
   "source": [
    "# Neural network regression"
   ]
  },
  {
   "cell_type": "markdown",
   "metadata": {},
   "source": [
    "## Model"
   ]
  },
  {
   "cell_type": "code",
   "execution_count": 82,
   "metadata": {},
   "outputs": [
    {
     "name": "stdout",
     "output_type": "stream",
     "text": [
      "Model: \"sequential_2\"\n",
      "_________________________________________________________________\n",
      "Layer (type)                 Output Shape              Param #   \n",
      "=================================================================\n",
      "dense_1 (Dense)              (None, 128)               2176      \n",
      "_________________________________________________________________\n",
      "dense_2 (Dense)              (None, 256)               33024     \n",
      "_________________________________________________________________\n",
      "dense_3 (Dense)              (None, 256)               65792     \n",
      "_________________________________________________________________\n",
      "dense_4 (Dense)              (None, 256)               65792     \n",
      "_________________________________________________________________\n",
      "dense_5 (Dense)              (None, 1)                 257       \n",
      "=================================================================\n",
      "Total params: 167,041\n",
      "Trainable params: 167,041\n",
      "Non-trainable params: 0\n",
      "_________________________________________________________________\n"
     ]
    }
   ],
   "source": [
    "X_train_preprocessed= fitted_preprocessor.transform(X_train)\n",
    "NN_model = Sequential()\n",
    "\n",
    "# The Input Layer :\n",
    "NN_model.add(Dense(128, kernel_initializer='normal',input_dim = X_train_preprocessed.shape[1], activation='relu'))\n",
    "\n",
    "# The Hidden Layers :\n",
    "NN_model.add(Dense(256, kernel_initializer='normal',activation='relu'))\n",
    "NN_model.add(Dense(256, kernel_initializer='normal',activation='relu'))\n",
    "NN_model.add(Dense(256, kernel_initializer='normal',activation='relu'))\n",
    "\n",
    "# The Output Layer :\n",
    "NN_model.add(Dense(1, kernel_initializer='normal',activation='linear'))\n",
    "\n",
    "# Compile the network :\n",
    "NN_model.compile(loss='mean_absolute_error', optimizer='adam', metrics=['mean_absolute_error'])\n",
    "NN_model.summary()"
   ]
  },
  {
   "cell_type": "code",
   "execution_count": 83,
   "metadata": {},
   "outputs": [],
   "source": [
    "checkpoint_name = 'Weights-{epoch:03d}--{val_loss:.5f}.hdf5' \n",
    "checkpoint = ModelCheckpoint(checkpoint_name, monitor='val_loss', verbose = 1, save_best_only = True, mode ='auto')\n",
    "callbacks_list = [checkpoint]"
   ]
  },
  {
   "cell_type": "code",
   "execution_count": 84,
   "metadata": {},
   "outputs": [
    {
     "name": "stdout",
     "output_type": "stream",
     "text": [
      "Train on 58441 samples, validate on 14611 samples\n",
      "Epoch 1/50\n",
      "58441/58441 [==============================] - 14s 246us/step - loss: 7.5714 - mean_absolute_error: 7.5714 - val_loss: 7.4444 - val_mean_absolute_error: 7.4444\n",
      "\n",
      "Epoch 00001: val_loss improved from inf to 7.44444, saving model to Weights-001--7.44444.hdf5\n",
      "Epoch 2/50\n",
      "58441/58441 [==============================] - 13s 227us/step - loss: 7.3450 - mean_absolute_error: 7.3450 - val_loss: 7.4860 - val_mean_absolute_error: 7.4860\n",
      "\n",
      "Epoch 00002: val_loss did not improve from 7.44444\n",
      "Epoch 3/50\n",
      "58441/58441 [==============================] - 13s 229us/step - loss: 7.2903 - mean_absolute_error: 7.2903 - val_loss: 7.3149 - val_mean_absolute_error: 7.3149\n",
      "\n",
      "Epoch 00003: val_loss improved from 7.44444 to 7.31486, saving model to Weights-003--7.31486.hdf5\n",
      "Epoch 4/50\n",
      "58441/58441 [==============================] - 14s 236us/step - loss: 7.2358 - mean_absolute_error: 7.2358 - val_loss: 7.3079 - val_mean_absolute_error: 7.3079\n",
      "\n",
      "Epoch 00004: val_loss improved from 7.31486 to 7.30793, saving model to Weights-004--7.30793.hdf5\n",
      "Epoch 5/50\n",
      "58441/58441 [==============================] - 14s 239us/step - loss: 7.2124 - mean_absolute_error: 7.2124 - val_loss: 7.3502 - val_mean_absolute_error: 7.3502\n",
      "\n",
      "Epoch 00005: val_loss did not improve from 7.30793\n",
      "Epoch 6/50\n",
      "58441/58441 [==============================] - 14s 237us/step - loss: 7.1838 - mean_absolute_error: 7.1838 - val_loss: 7.2704 - val_mean_absolute_error: 7.2704\n",
      "\n",
      "Epoch 00006: val_loss improved from 7.30793 to 7.27037, saving model to Weights-006--7.27037.hdf5\n",
      "Epoch 7/50\n",
      "58441/58441 [==============================] - 15s 264us/step - loss: 7.1659 - mean_absolute_error: 7.1659 - val_loss: 7.2907 - val_mean_absolute_error: 7.2907\n",
      "\n",
      "Epoch 00007: val_loss did not improve from 7.27037\n",
      "Epoch 8/50\n",
      "58441/58441 [==============================] - 15s 252us/step - loss: 7.1410 - mean_absolute_error: 7.1410 - val_loss: 7.3488 - val_mean_absolute_error: 7.3488\n",
      "\n",
      "Epoch 00008: val_loss did not improve from 7.27037\n",
      "Epoch 9/50\n",
      "58441/58441 [==============================] - 15s 258us/step - loss: 7.1044 - mean_absolute_error: 7.1044 - val_loss: 7.2965 - val_mean_absolute_error: 7.2965\n",
      "\n",
      "Epoch 00009: val_loss did not improve from 7.27037\n",
      "Epoch 10/50\n",
      "58441/58441 [==============================] - 14s 241us/step - loss: 7.0812 - mean_absolute_error: 7.0812 - val_loss: 7.2454 - val_mean_absolute_error: 7.2454\n",
      "\n",
      "Epoch 00010: val_loss improved from 7.27037 to 7.24545, saving model to Weights-010--7.24545.hdf5\n",
      "Epoch 11/50\n",
      "58441/58441 [==============================] - 14s 248us/step - loss: 7.0523 - mean_absolute_error: 7.0523 - val_loss: 7.2792 - val_mean_absolute_error: 7.2792\n",
      "\n",
      "Epoch 00011: val_loss did not improve from 7.24545\n",
      "Epoch 12/50\n",
      "58441/58441 [==============================] - 14s 237us/step - loss: 7.0328 - mean_absolute_error: 7.0328 - val_loss: 7.2544 - val_mean_absolute_error: 7.2544\n",
      "\n",
      "Epoch 00012: val_loss did not improve from 7.24545\n",
      "Epoch 13/50\n",
      "58441/58441 [==============================] - 14s 236us/step - loss: 7.0014 - mean_absolute_error: 7.0014 - val_loss: 7.2742 - val_mean_absolute_error: 7.2742\n",
      "\n",
      "Epoch 00013: val_loss did not improve from 7.24545\n",
      "Epoch 14/50\n",
      "58441/58441 [==============================] - 14s 234us/step - loss: 6.9887 - mean_absolute_error: 6.9887 - val_loss: 7.3539 - val_mean_absolute_error: 7.3539\n",
      "\n",
      "Epoch 00014: val_loss did not improve from 7.24545\n",
      "Epoch 15/50\n",
      "58441/58441 [==============================] - 14s 237us/step - loss: 6.9698 - mean_absolute_error: 6.9698 - val_loss: 7.3189 - val_mean_absolute_error: 7.3189\n",
      "\n",
      "Epoch 00015: val_loss did not improve from 7.24545\n",
      "Epoch 16/50\n",
      "58441/58441 [==============================] - 14s 239us/step - loss: 6.9297 - mean_absolute_error: 6.9297 - val_loss: 7.3068 - val_mean_absolute_error: 7.3068\n",
      "\n",
      "Epoch 00016: val_loss did not improve from 7.24545\n",
      "Epoch 17/50\n",
      "58441/58441 [==============================] - 14s 239us/step - loss: 6.9056 - mean_absolute_error: 6.9056 - val_loss: 7.2720 - val_mean_absolute_error: 7.2720\n",
      "\n",
      "Epoch 00017: val_loss did not improve from 7.24545\n",
      "Epoch 18/50\n",
      "58441/58441 [==============================] - 14s 243us/step - loss: 6.8839 - mean_absolute_error: 6.8839 - val_loss: 7.2759 - val_mean_absolute_error: 7.2759\n",
      "\n",
      "Epoch 00018: val_loss did not improve from 7.24545\n",
      "Epoch 19/50\n",
      "58441/58441 [==============================] - 15s 261us/step - loss: 6.8594 - mean_absolute_error: 6.8594 - val_loss: 7.3223 - val_mean_absolute_error: 7.3223\n",
      "\n",
      "Epoch 00019: val_loss did not improve from 7.24545\n",
      "Epoch 20/50\n",
      "58441/58441 [==============================] - 16s 277us/step - loss: 6.8191 - mean_absolute_error: 6.8191 - val_loss: 7.2835 - val_mean_absolute_error: 7.2835\n",
      "\n",
      "Epoch 00020: val_loss did not improve from 7.24545\n",
      "Epoch 21/50\n",
      "58441/58441 [==============================] - 14s 248us/step - loss: 6.7944 - mean_absolute_error: 6.7944 - val_loss: 7.3384 - val_mean_absolute_error: 7.3384\n",
      "\n",
      "Epoch 00021: val_loss did not improve from 7.24545\n",
      "Epoch 22/50\n",
      "58441/58441 [==============================] - 13s 223us/step - loss: 6.7526 - mean_absolute_error: 6.7526 - val_loss: 7.3438 - val_mean_absolute_error: 7.3438\n",
      "\n",
      "Epoch 00022: val_loss did not improve from 7.24545\n",
      "Epoch 23/50\n",
      "58441/58441 [==============================] - 13s 230us/step - loss: 6.7150 - mean_absolute_error: 6.7150 - val_loss: 7.3161 - val_mean_absolute_error: 7.3161\n",
      "\n",
      "Epoch 00023: val_loss did not improve from 7.24545\n",
      "Epoch 24/50\n",
      "58441/58441 [==============================] - 13s 230us/step - loss: 6.6840 - mean_absolute_error: 6.6840 - val_loss: 7.2970 - val_mean_absolute_error: 7.2970\n",
      "\n",
      "Epoch 00024: val_loss did not improve from 7.24545\n",
      "Epoch 25/50\n",
      "58441/58441 [==============================] - 13s 223us/step - loss: 6.6394 - mean_absolute_error: 6.6394 - val_loss: 7.4805 - val_mean_absolute_error: 7.4805\n",
      "\n",
      "Epoch 00025: val_loss did not improve from 7.24545\n",
      "Epoch 26/50\n",
      "58441/58441 [==============================] - 14s 247us/step - loss: 6.5953 - mean_absolute_error: 6.5953 - val_loss: 7.3762 - val_mean_absolute_error: 7.3762\n",
      "\n",
      "Epoch 00026: val_loss did not improve from 7.24545\n",
      "Epoch 27/50\n",
      "58441/58441 [==============================] - 13s 224us/step - loss: 6.5668 - mean_absolute_error: 6.5668 - val_loss: 7.3845 - val_mean_absolute_error: 7.3845\n",
      "\n",
      "Epoch 00027: val_loss did not improve from 7.24545\n",
      "Epoch 28/50\n",
      "58441/58441 [==============================] - 13s 221us/step - loss: 6.5260 - mean_absolute_error: 6.5260 - val_loss: 7.4147 - val_mean_absolute_error: 7.4147\n",
      "\n",
      "Epoch 00028: val_loss did not improve from 7.24545\n",
      "Epoch 29/50\n",
      "58441/58441 [==============================] - 13s 228us/step - loss: 6.4811 - mean_absolute_error: 6.4811 - val_loss: 7.4598 - val_mean_absolute_error: 7.4598\n",
      "\n",
      "Epoch 00029: val_loss did not improve from 7.24545\n",
      "Epoch 30/50\n",
      "58441/58441 [==============================] - 13s 231us/step - loss: 6.4300 - mean_absolute_error: 6.4300 - val_loss: 7.4196 - val_mean_absolute_error: 7.4196\n",
      "\n",
      "Epoch 00030: val_loss did not improve from 7.24545\n",
      "Epoch 31/50\n",
      "58441/58441 [==============================] - 13s 226us/step - loss: 6.3890 - mean_absolute_error: 6.3890 - val_loss: 7.4204 - val_mean_absolute_error: 7.4204\n",
      "\n",
      "Epoch 00031: val_loss did not improve from 7.24545\n",
      "Epoch 32/50\n",
      "58441/58441 [==============================] - 13s 228us/step - loss: 6.3507 - mean_absolute_error: 6.3507 - val_loss: 7.5162 - val_mean_absolute_error: 7.5162\n",
      "\n",
      "Epoch 00032: val_loss did not improve from 7.24545\n",
      "Epoch 33/50\n",
      "58441/58441 [==============================] - 13s 223us/step - loss: 6.3013 - mean_absolute_error: 6.3013 - val_loss: 7.6125 - val_mean_absolute_error: 7.6125\n",
      "\n",
      "Epoch 00033: val_loss did not improve from 7.24545\n",
      "Epoch 34/50\n",
      "58441/58441 [==============================] - 14s 235us/step - loss: 6.2653 - mean_absolute_error: 6.2653 - val_loss: 7.6106 - val_mean_absolute_error: 7.6106\n",
      "\n",
      "Epoch 00034: val_loss did not improve from 7.24545\n",
      "Epoch 35/50\n",
      "58441/58441 [==============================] - 13s 230us/step - loss: 6.2153 - mean_absolute_error: 6.2153 - val_loss: 7.4907 - val_mean_absolute_error: 7.4907\n",
      "\n",
      "Epoch 00035: val_loss did not improve from 7.24545\n",
      "Epoch 36/50\n"
     ]
    },
    {
     "name": "stdout",
     "output_type": "stream",
     "text": [
      "58441/58441 [==============================] - 13s 218us/step - loss: 6.1657 - mean_absolute_error: 6.1657 - val_loss: 7.5234 - val_mean_absolute_error: 7.5234\n",
      "\n",
      "Epoch 00036: val_loss did not improve from 7.24545\n",
      "Epoch 37/50\n",
      "58441/58441 [==============================] - 13s 227us/step - loss: 6.1212 - mean_absolute_error: 6.1212 - val_loss: 7.7894 - val_mean_absolute_error: 7.7894\n",
      "\n",
      "Epoch 00037: val_loss did not improve from 7.24545\n",
      "Epoch 38/50\n",
      "58441/58441 [==============================] - 13s 222us/step - loss: 6.0512 - mean_absolute_error: 6.0512 - val_loss: 7.5899 - val_mean_absolute_error: 7.5899\n",
      "\n",
      "Epoch 00038: val_loss did not improve from 7.24545\n",
      "Epoch 39/50\n",
      "58441/58441 [==============================] - 13s 226us/step - loss: 6.0289 - mean_absolute_error: 6.0289 - val_loss: 7.7420 - val_mean_absolute_error: 7.7420\n",
      "\n",
      "Epoch 00039: val_loss did not improve from 7.24545\n",
      "Epoch 40/50\n",
      "58441/58441 [==============================] - 13s 223us/step - loss: 5.9886 - mean_absolute_error: 5.9886 - val_loss: 7.6095 - val_mean_absolute_error: 7.6095\n",
      "\n",
      "Epoch 00040: val_loss did not improve from 7.24545\n",
      "Epoch 41/50\n",
      "58441/58441 [==============================] - 13s 226us/step - loss: 5.9480 - mean_absolute_error: 5.9480 - val_loss: 7.6128 - val_mean_absolute_error: 7.6128\n",
      "\n",
      "Epoch 00041: val_loss did not improve from 7.24545\n",
      "Epoch 42/50\n",
      "58441/58441 [==============================] - 13s 222us/step - loss: 5.9189 - mean_absolute_error: 5.9189 - val_loss: 7.6355 - val_mean_absolute_error: 7.6355\n",
      "\n",
      "Epoch 00042: val_loss did not improve from 7.24545\n",
      "Epoch 43/50\n",
      "58441/58441 [==============================] - 13s 220us/step - loss: 5.8566 - mean_absolute_error: 5.8566 - val_loss: 7.7934 - val_mean_absolute_error: 7.7934\n",
      "\n",
      "Epoch 00043: val_loss did not improve from 7.24545\n",
      "Epoch 44/50\n",
      "58441/58441 [==============================] - 14s 232us/step - loss: 5.8040 - mean_absolute_error: 5.8040 - val_loss: 7.7858 - val_mean_absolute_error: 7.7858\n",
      "\n",
      "Epoch 00044: val_loss did not improve from 7.24545\n",
      "Epoch 45/50\n",
      "58441/58441 [==============================] - 13s 227us/step - loss: 5.7659 - mean_absolute_error: 5.7659 - val_loss: 7.6999 - val_mean_absolute_error: 7.6999\n",
      "\n",
      "Epoch 00045: val_loss did not improve from 7.24545\n",
      "Epoch 46/50\n",
      "58441/58441 [==============================] - 13s 220us/step - loss: 5.7339 - mean_absolute_error: 5.7339 - val_loss: 7.8425 - val_mean_absolute_error: 7.8425\n",
      "\n",
      "Epoch 00046: val_loss did not improve from 7.24545\n",
      "Epoch 47/50\n",
      "58441/58441 [==============================] - 13s 225us/step - loss: 5.6891 - mean_absolute_error: 5.6891 - val_loss: 7.6363 - val_mean_absolute_error: 7.6363\n",
      "\n",
      "Epoch 00047: val_loss did not improve from 7.24545\n",
      "Epoch 48/50\n",
      "58441/58441 [==============================] - 13s 228us/step - loss: 5.6399 - mean_absolute_error: 5.6399 - val_loss: 7.6826 - val_mean_absolute_error: 7.6826\n",
      "\n",
      "Epoch 00048: val_loss did not improve from 7.24545\n",
      "Epoch 49/50\n",
      "58441/58441 [==============================] - 13s 230us/step - loss: 5.6100 - mean_absolute_error: 5.6100 - val_loss: 7.8174 - val_mean_absolute_error: 7.8174\n",
      "\n",
      "Epoch 00049: val_loss did not improve from 7.24545\n",
      "Epoch 50/50\n",
      "58441/58441 [==============================] - 13s 230us/step - loss: 5.5831 - mean_absolute_error: 5.5831 - val_loss: 7.8047 - val_mean_absolute_error: 7.8047\n",
      "\n",
      "Epoch 00050: val_loss did not improve from 7.24545\n"
     ]
    },
    {
     "data": {
      "text/plain": [
       "<keras.callbacks.callbacks.History at 0x7fe737629588>"
      ]
     },
     "execution_count": 84,
     "metadata": {},
     "output_type": "execute_result"
    }
   ],
   "source": [
    "NN_model.fit(X_train_preprocessed, y_train, epochs=50, batch_size=32, validation_split = 0.2, callbacks=callbacks_list)"
   ]
  },
  {
   "cell_type": "code",
   "execution_count": 85,
   "metadata": {},
   "outputs": [],
   "source": [
    "# Load wights file of the best model :\n",
    "wights_file = 'Weights-010--7.24545.hdf5' # choose the best checkpoint \n",
    "NN_model.load_weights(wights_file) # load it\n",
    "NN_model.compile(loss='mean_absolute_error', optimizer='adam', metrics=['mean_absolute_error'])"
   ]
  },
  {
   "cell_type": "markdown",
   "metadata": {},
   "source": [
    "### Performance on train data"
   ]
  },
  {
   "cell_type": "code",
   "execution_count": 86,
   "metadata": {},
   "outputs": [
    {
     "name": "stdout",
     "output_type": "stream",
     "text": [
      "MSE :\n",
      "153.21\n",
      "RMSE:\n",
      "12.38\n",
      "R2:\n",
      "0.33\n",
      "MAE:\n",
      "1.48\n"
     ]
    }
   ],
   "source": [
    "show_regression_results(fitted_preprocessor, NN_model, X_train, y_train)"
   ]
  },
  {
   "cell_type": "markdown",
   "metadata": {},
   "source": [
    "### Performance on test data"
   ]
  },
  {
   "cell_type": "code",
   "execution_count": 87,
   "metadata": {},
   "outputs": [
    {
     "name": "stdout",
     "output_type": "stream",
     "text": [
      "MSE :\n",
      "156.24\n",
      "RMSE:\n",
      "12.50\n",
      "R2:\n",
      "0.30\n",
      "MAE:\n",
      "1.76\n"
     ]
    }
   ],
   "source": [
    "show_regression_results(fitted_preprocessor, NN_model, X_test, y_test)"
   ]
  },
  {
   "cell_type": "markdown",
   "metadata": {},
   "source": [
    "As we can see, the neural network performed much better in terms of MAE (median absolute error) than most of the other models. It is only outperformed by the decision tree that in return shows an extremely low R2. Still, the predictive powers of this model are limited."
   ]
  }
 ],
 "metadata": {
  "kernelspec": {
   "display_name": "Python [conda env:nf] *",
   "language": "python",
   "name": "conda-env-nf-py"
  },
  "language_info": {
   "codemirror_mode": {
    "name": "ipython",
    "version": 3
   },
   "file_extension": ".py",
   "mimetype": "text/x-python",
   "name": "python",
   "nbconvert_exporter": "python",
   "pygments_lexer": "ipython3",
   "version": "3.6.10"
  },
  "toc": {
   "base_numbering": 1,
   "nav_menu": {},
   "number_sections": true,
   "sideBar": true,
   "skip_h1_title": false,
   "title_cell": "Table of Contents",
   "title_sidebar": "Contents",
   "toc_cell": false,
   "toc_position": {
    "height": "calc(100% - 180px)",
    "left": "10px",
    "top": "150px",
    "width": "306.25px"
   },
   "toc_section_display": true,
   "toc_window_display": true
  },
  "varInspector": {
   "cols": {
    "lenName": 16,
    "lenType": 16,
    "lenVar": 40
   },
   "kernels_config": {
    "python": {
     "delete_cmd_postfix": "",
     "delete_cmd_prefix": "del ",
     "library": "var_list.py",
     "varRefreshCmd": "print(var_dic_list())"
    },
    "r": {
     "delete_cmd_postfix": ") ",
     "delete_cmd_prefix": "rm(",
     "library": "var_list.r",
     "varRefreshCmd": "cat(var_dic_list()) "
    }
   },
   "types_to_exclude": [
    "module",
    "function",
    "builtin_function_or_method",
    "instance",
    "_Feature"
   ],
   "window_display": false
  }
 },
 "nbformat": 4,
 "nbformat_minor": 4
}
